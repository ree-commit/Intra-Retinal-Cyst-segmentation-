{
  "nbformat": 4,
  "nbformat_minor": 0,
  "metadata": {
    "kernelspec": {
      "display_name": "Python 3",
      "language": "python",
      "name": "python3"
    },
    "language_info": {
      "codemirror_mode": {
        "name": "ipython",
        "version": 3
      },
      "file_extension": ".py",
      "mimetype": "text/x-python",
      "name": "python",
      "nbconvert_exporter": "python",
      "pygments_lexer": "ipython3",
      "version": "3.6.10"
    },
    "colab": {
      "name": "intra_retinal_cyst_segmentation.ipynb",
      "provenance": [],
      "collapsed_sections": []
    },
    "accelerator": "GPU"
  },
  "cells": [
    {
      "cell_type": "code",
      "metadata": {
        "id": "zaFAEKrFI2t1",
        "colab_type": "code",
        "colab": {
          "base_uri": "https://localhost:8080/",
          "height": 513
        },
        "outputId": "257850eb-b7e4-45f0-9e36-d18ab07416dc"
      },
      "source": [
        "!pip install scipy==1.1.0 #for imresize error\n",
        "!pip install medpy"
      ],
      "execution_count": null,
      "outputs": [
        {
          "output_type": "stream",
          "text": [
            "Collecting scipy==1.1.0\n",
            "\u001b[?25l  Downloading https://files.pythonhosted.org/packages/a8/0b/f163da98d3a01b3e0ef1cab8dd2123c34aee2bafbb1c5bffa354cc8a1730/scipy-1.1.0-cp36-cp36m-manylinux1_x86_64.whl (31.2MB)\n",
            "\u001b[K     |████████████████████████████████| 31.2MB 101kB/s \n",
            "\u001b[?25hRequirement already satisfied: numpy>=1.8.2 in /usr/local/lib/python3.6/dist-packages (from scipy==1.1.0) (1.18.5)\n",
            "\u001b[31mERROR: umap-learn 0.4.4 has requirement scipy>=1.3.1, but you'll have scipy 1.1.0 which is incompatible.\u001b[0m\n",
            "\u001b[31mERROR: tensorflow 2.2.0 has requirement scipy==1.4.1; python_version >= \"3\", but you'll have scipy 1.1.0 which is incompatible.\u001b[0m\n",
            "\u001b[31mERROR: plotnine 0.6.0 has requirement scipy>=1.2.0, but you'll have scipy 1.1.0 which is incompatible.\u001b[0m\n",
            "\u001b[31mERROR: albumentations 0.1.12 has requirement imgaug<0.2.7,>=0.2.5, but you'll have imgaug 0.2.9 which is incompatible.\u001b[0m\n",
            "Installing collected packages: scipy\n",
            "  Found existing installation: scipy 1.4.1\n",
            "    Uninstalling scipy-1.4.1:\n",
            "      Successfully uninstalled scipy-1.4.1\n",
            "Successfully installed scipy-1.1.0\n",
            "Collecting medpy\n",
            "\u001b[?25l  Downloading https://files.pythonhosted.org/packages/3b/70/c1fd5dd60242eee81774696ea7ba4caafac2bad8f028bba94b1af83777d7/MedPy-0.4.0.tar.gz (151kB)\n",
            "\u001b[K     |████████████████████████████████| 153kB 2.8MB/s \n",
            "\u001b[?25hRequirement already satisfied: scipy>=1.1.0 in /usr/local/lib/python3.6/dist-packages (from medpy) (1.1.0)\n",
            "Requirement already satisfied: numpy>=1.11.0 in /usr/local/lib/python3.6/dist-packages (from medpy) (1.18.5)\n",
            "Collecting SimpleITK>=1.1.0\n",
            "\u001b[?25l  Downloading https://files.pythonhosted.org/packages/f8/d8/53338c34f71020725ffb3557846c80af96c29c03bc883551a2565aa68a7c/SimpleITK-1.2.4-cp36-cp36m-manylinux1_x86_64.whl (42.5MB)\n",
            "\u001b[K     |████████████████████████████████| 42.5MB 71kB/s \n",
            "\u001b[?25hBuilding wheels for collected packages: medpy\n",
            "  Building wheel for medpy (setup.py) ... \u001b[?25l\u001b[?25hdone\n",
            "  Created wheel for medpy: filename=MedPy-0.4.0-cp36-cp36m-linux_x86_64.whl size=753444 sha256=a794e1fd88c37b7b39b4d476efe2eca51a4dfe1054a1ccde702a570f0d7d25df\n",
            "  Stored in directory: /root/.cache/pip/wheels/8c/c9/9c/2c6281c7a72b9fb1570862a4f028af7ce38405008354fbf870\n",
            "Successfully built medpy\n",
            "Installing collected packages: SimpleITK, medpy\n",
            "Successfully installed SimpleITK-1.2.4 medpy-0.4.0\n"
          ],
          "name": "stdout"
        }
      ]
    },
    {
      "cell_type": "code",
      "metadata": {
        "id": "bwrCl55Kt7Qx",
        "colab_type": "code",
        "colab": {
          "base_uri": "https://localhost:8080/",
          "height": 34
        },
        "outputId": "62df0bc1-a593-4eff-8e74-40a5f250a341"
      },
      "source": [
        "import numpy as np\n",
        "from keras.models import Model, load_model\n",
        "from keras.layers import BatchNormalization,Convolution2D, Input, UpSampling2D, Activation, merge, MaxPooling2D, Deconvolution2D, Reshape, Permute\n",
        "from keras.optimizers import SGD, Adam\n",
        "from scipy.misc import imresize, imsave, imread\n",
        "from keras import backend as K\n",
        "from keras.callbacks import ModelCheckpoint, LearningRateScheduler\n",
        "from medpy.metric import dc, precision, recall\n",
        "import matplotlib.pyplot as plt\n",
        "from keras.regularizers import l2\n",
        "from keras.preprocessing.image import ImageDataGenerator\n",
        "import tensorflow as tf\n"
      ],
      "execution_count": null,
      "outputs": [
        {
          "output_type": "stream",
          "text": [
            "Using TensorFlow backend.\n"
          ],
          "name": "stderr"
        }
      ]
    },
    {
      "cell_type": "code",
      "metadata": {
        "id": "Kwq11dbj_V7L",
        "colab_type": "code",
        "colab": {}
      },
      "source": [
        "#!pip install tensorflow"
      ],
      "execution_count": null,
      "outputs": []
    },
    {
      "cell_type": "code",
      "metadata": {
        "id": "UI8H8beX_V7h",
        "colab_type": "code",
        "colab": {}
      },
      "source": [
        "#!pip install keras"
      ],
      "execution_count": null,
      "outputs": []
    },
    {
      "cell_type": "code",
      "metadata": {
        "id": "j1IX0LJP_V7z",
        "colab_type": "code",
        "colab": {}
      },
      "source": [
        "'''Fairly basic set of tools for real-time data augmentation on image data.\n",
        "Can easily be extended to include new transformations,\n",
        "new preprocessing methods, etc...\n",
        "Modified by He Xie 08/2016\n",
        "For image segmentation problem data augmentation.\n",
        "Transform train img data and mask img data simultaneously and in the same fashion.\n",
        "Omit flow from directory function.\n",
        "'''\n",
        "\n",
        "import re\n",
        "from scipy import linalg\n",
        "import scipy.ndimage as ndi\n",
        "# from six.moves import range\n",
        "import os\n",
        "import threading\n",
        "from scipy.ndimage.interpolation import map_coordinates\n",
        "from scipy.ndimage.filters import gaussian_filter\n",
        "\n",
        "\n",
        "def random_channel_shift(x, intensity, channel_index=0):\n",
        "    x = np.rollaxis(x, channel_index, 0)\n",
        "    min_x, max_x = np.min(x), np.max(x)\n",
        "    channel_images = [np.clip(x_channel + np.random.uniform(-intensity, intensity), min_x, max_x)\n",
        "                      for x_channel in x]\n",
        "    x = np.stack(channel_images, axis=0)\n",
        "    x = np.rollaxis(x, 0, channel_index+1)\n",
        "    return x\n",
        "\n",
        "\n",
        "def transform_matrix_offset_center(matrix, x, y):\n",
        "    o_x = float(x) / 2 + 0.5\n",
        "    o_y = float(y) / 2 + 0.5\n",
        "    offset_matrix = np.array([[1, 0, o_x], [0, 1, o_y], [0, 0, 1]])\n",
        "    reset_matrix = np.array([[1, 0, -o_x], [0, 1, -o_y], [0, 0, 1]])\n",
        "    transform_matrix = np.dot(np.dot(offset_matrix, matrix), reset_matrix)\n",
        "    return transform_matrix\n",
        "\n",
        "\n",
        "def apply_transform(x, transform_matrix, channel_index=0, fill_mode='nearest', cval=0.):\n",
        "    x = np.rollaxis(x, channel_index, 0)\n",
        "    final_affine_matrix = transform_matrix[:2, :2]\n",
        "    final_offset = transform_matrix[:2, 2]\n",
        "    channel_images = [ndi.interpolation.affine_transform(x_channel, final_affine_matrix,\n",
        "                      final_offset, order=0, mode=fill_mode, cval=cval) for x_channel in x]\n",
        "    x = np.stack(channel_images, axis=0)\n",
        "    x = np.rollaxis(x, 0, channel_index+1)\n",
        "    return x\n",
        "\n",
        "\n",
        "def flip_axis(x, axis):\n",
        "    x = np.asarray(x).swapaxes(axis, 0)\n",
        "    x = x[::-1, ...]\n",
        "    x = x.swapaxes(0, axis)\n",
        "    return x\n",
        "\n",
        "\n",
        "def array_to_img(x, dim_ordering='default', scale=True):\n",
        "    from PIL import Image\n",
        "    if dim_ordering == 'default':\n",
        "        dim_ordering = K.image_dim_ordering()\n",
        "    if dim_ordering == 'th':\n",
        "        x = x.transpose(1, 2, 0)\n",
        "    if scale:\n",
        "        x += max(-np.min(x), 0)\n",
        "        x /= np.max(x)\n",
        "        x *= 255\n",
        "    if x.shape[2] == 3:\n",
        "        # RGB\n",
        "        return Image.fromarray(x.astype('uint8'), 'RGB')\n",
        "    elif x.shape[2] == 1:\n",
        "        # grayscale\n",
        "        return Image.fromarray(x[:, :, 0].astype('uint8'), 'L')\n",
        "    else:\n",
        "        raise Exception('Unsupported channel number: ', x.shape[2])\n",
        "\n",
        "\n",
        "def img_to_array(img, dim_ordering='default'):\n",
        "    if dim_ordering == 'default':\n",
        "        dim_ordering = K.image_dim_ordering()\n",
        "    if dim_ordering not in ['th', 'tf']:\n",
        "        raise Exception('Unknown dim_ordering: ', dim_ordering)\n",
        "    # image has dim_ordering (height, width, channel)\n",
        "    x = np.asarray(img, dtype='float32')\n",
        "    if len(x.shape) == 3:\n",
        "        if dim_ordering == 'th':\n",
        "            x = x.transpose(2, 0, 1)\n",
        "    elif len(x.shape) == 2:\n",
        "        if dim_ordering == 'th':\n",
        "            x = x.reshape((1, x.shape[0], x.shape[1]))\n",
        "        else:\n",
        "            x = x.reshape((x.shape[0], x.shape[1], 1))\n",
        "    else:\n",
        "        raise Exception('Unsupported image shape: ', x.shape)\n",
        "    return x\n",
        "\n",
        "\n",
        "class ImageDataGenerator(object):\n",
        "    '''Generate minibatches with\n",
        "    real-time data augmentation.\n",
        "    Assume X is train img, Y is train label (same size as X with only 0 and 255 for values)\n",
        "    # Arguments\n",
        "        featurewise_center: set input mean to 0 over the dataset. Only to X\n",
        "        samplewise_center: set each sample mean to 0. Only to X\n",
        "        featurewise_std_normalization: divide inputs by std of the dataset. Only to X\n",
        "        samplewise_std_normalization: divide each input by its std. Only to X\n",
        "        zca_whitening: apply ZCA whitening. Only to X\n",
        "        rotation_range: degrees (0 to 180). To X and Y\n",
        "        width_shift_range: fraction of total width. To X and Y\n",
        "        height_shift_range: fraction of total height. To X and Y\n",
        "        shear_range: shear intensity (shear angle in radians). To X and Y\n",
        "        zoom_range: amount of zoom. if scalar z, zoom will be randomly picked\n",
        "            in the range [1-z, 1+z]. A sequence of two can be passed instead\n",
        "            to select this range. To X and Y\n",
        "        channel_shift_range: shift range for each channels. Only to X\n",
        "        fill_mode: points outside the boundaries are filled according to the\n",
        "            given mode ('constant', 'nearest', 'reflect' or 'wrap'). Default\n",
        "            is 'nearest'. For Y, always fill with constant 0\n",
        "        cval: value used for points outside the boundaries when fill_mode is\n",
        "            'constant'. Default is 0.\n",
        "        horizontal_flip: whether to randomly flip images horizontally. To X and Y\n",
        "        vertical_flip: whether to randomly flip images vertically. To X and Y\n",
        "        rescale: rescaling factor. If None or 0, no rescaling is applied,\n",
        "            otherwise we multiply the data by the value provided (before applying\n",
        "            any other transformation). Only to X\n",
        "        dim_ordering: 'th' or 'tf'. In 'th' mode, the channels dimension\n",
        "            (the depth) is at index 1, in 'tf' mode it is at index 3.\n",
        "            It defaults to the `image_dim_ordering` value found in your\n",
        "            Keras config file at `~/.keras/keras.json`.\n",
        "            If you never set it, then it will be \"th\".\n",
        "    '''\n",
        "    def __init__(self,\n",
        "                 featurewise_center=False,\n",
        "                 samplewise_center=False,\n",
        "                 featurewise_std_normalization=False,\n",
        "                 samplewise_std_normalization=False,\n",
        "                 zca_whitening=False,\n",
        "                 rotation_range=0.,\n",
        "                 width_shift_range=0.,\n",
        "                 height_shift_range=0.,\n",
        "                 shear_range=0.,\n",
        "                 zoom_range=0.,\n",
        "                 channel_shift_range=0.,\n",
        "                 fill_mode='nearest',\n",
        "                 cval=0.,\n",
        "                 horizontal_flip=False,\n",
        "                 vertical_flip=False,\n",
        "                 rescale=None,\n",
        "                 \n",
        "                 dim_ordering='default'):\n",
        "        \n",
        "        if dim_ordering == 'default':\n",
        "            dim_ordering = K.common.image_dim_ordering()\n",
        "        self.__dict__.update(locals())\n",
        "        self.mean = None\n",
        "        self.std = None\n",
        "        self.principal_components = None\n",
        "        self.rescale = rescale\n",
        "\n",
        "        if dim_ordering not in {'tf', 'th'}:\n",
        "            raise Exception('dim_ordering should be \"tf\" (channel after row and '\n",
        "                            'column) or \"th\" (channel before row and column). '\n",
        "                            'Received arg: ', dim_ordering)\n",
        "        self.dim_ordering = dim_ordering\n",
        "        if dim_ordering == 'th':\n",
        "            self.channel_index = 1\n",
        "            self.row_index = 2\n",
        "            self.col_index = 3\n",
        "        if dim_ordering == 'tf':\n",
        "            self.channel_index = 3\n",
        "            self.row_index = 1\n",
        "            self.col_index = 2\n",
        "\n",
        "        if np.isscalar(zoom_range):\n",
        "            self.zoom_range = [1 - zoom_range, 1 + zoom_range]\n",
        "        elif len(zoom_range) == 2:\n",
        "            self.zoom_range = [zoom_range[0], zoom_range[1]]\n",
        "        else:\n",
        "            raise Exception('zoom_range should be a float or '\n",
        "                            'a tuple or list of two floats. '\n",
        "                            'Received arg: ', zoom_range)\n",
        "\n",
        "    def flow(self, X, y=None, batch_size=32, shuffle=True, seed=None,\n",
        "             save_to_dir=None, save_prefix='', save_format='jpeg'):\n",
        "        return NumpyArrayIterator(\n",
        "            X, y, self,\n",
        "            batch_size=batch_size, shuffle=shuffle, seed=seed,\n",
        "            dim_ordering=self.dim_ordering,\n",
        "            save_to_dir=save_to_dir, save_prefix=save_prefix, save_format=save_format)\n",
        "\n",
        "    def standardize(self, x):\n",
        "        # Only applied to X\n",
        "        if self.rescale:\n",
        "            x *= self.rescale\n",
        "        # x is a single image, so it doesn't have image number at index 0\n",
        "        img_channel_index = self.channel_index - 1\n",
        "        if self.samplewise_center:\n",
        "            x -= np.mean(x, axis=img_channel_index, keepdims=True)\n",
        "        if self.samplewise_std_normalization:\n",
        "            x /= (np.std(x, axis=img_channel_index, keepdims=True) + 1e-7)\n",
        "\n",
        "        if self.featurewise_center:\n",
        "            x -= self.mean\n",
        "        if self.featurewise_std_normalization:\n",
        "            x /= (self.std + 1e-7)\n",
        "\n",
        "        if self.zca_whitening:\n",
        "            flatx = np.reshape(x, (x.size))\n",
        "            whitex = np.dot(flatx, self.principal_components)\n",
        "            x = np.reshape(whitex, (x.shape[0], x.shape[1], x.shape[2]))\n",
        "\n",
        "        return x\n",
        "\n",
        "    def random_transform(self, x, y):\n",
        "        # Need to modify to transform both X and Y ---- to do\n",
        "        # x is a single image, so it doesn't have image number at index 0\n",
        "        img_row_index = self.row_index - 1\n",
        "        img_col_index = self.col_index - 1\n",
        "        img_channel_index = self.channel_index - 1\n",
        "\n",
        "        # use composition of homographies to generate final transform that needs to be applied\n",
        "        if self.rotation_range:\n",
        "            theta = np.pi / 180 * np.random.uniform(-self.rotation_range, self.rotation_range)\n",
        "        else:\n",
        "            theta = 0\n",
        "        rotation_matrix = np.array([[np.cos(theta), -np.sin(theta), 0],\n",
        "                                    [np.sin(theta), np.cos(theta), 0],\n",
        "                                    [0, 0, 1]])\n",
        "        if self.height_shift_range:\n",
        "            tx = np.random.uniform(-self.height_shift_range, self.height_shift_range) * x.shape[img_row_index]\n",
        "        else:\n",
        "            tx = 0\n",
        "\n",
        "        if self.width_shift_range:\n",
        "            ty = np.random.uniform(-self.width_shift_range, self.width_shift_range) * x.shape[img_col_index]\n",
        "        else:\n",
        "            ty = 0\n",
        "\n",
        "        translation_matrix = np.array([[1, 0, tx],\n",
        "                                       [0, 1, ty],\n",
        "                                       [0, 0, 1]])\n",
        "        if self.shear_range:\n",
        "            shear = np.random.uniform(-self.shear_range, self.shear_range)\n",
        "        else:\n",
        "            shear = 0\n",
        "        shear_matrix = np.array([[1, -np.sin(shear), 0],\n",
        "                                 [0, np.cos(shear), 0],\n",
        "                                 [0, 0, 1]])\n",
        "\n",
        "        if self.zoom_range[0] == 1 and self.zoom_range[1] == 1:\n",
        "            zx, zy = 1, 1\n",
        "        else:\n",
        "            zx, zy = np.random.uniform(self.zoom_range[0], self.zoom_range[1], 2)\n",
        "        zoom_matrix = np.array([[zx, 0, 0],\n",
        "                                [0, zy, 0],\n",
        "                                [0, 0, 1]])\n",
        "\n",
        "        transform_matrix = np.dot(np.dot(np.dot(rotation_matrix, translation_matrix), shear_matrix), zoom_matrix)\n",
        "\n",
        "        h, w = x.shape[img_row_index], x.shape[img_col_index]\n",
        "        transform_matrix = transform_matrix_offset_center(transform_matrix, h, w)\n",
        "        x = apply_transform(x, transform_matrix, img_channel_index,\n",
        "                            fill_mode=self.fill_mode, cval=self.cval)\n",
        "        # For y, mask data, fill mode constant, cval = 0\n",
        "        y = apply_transform(y, transform_matrix, img_channel_index,\n",
        "                            fill_mode=\"constant\", cval=0)\n",
        "\n",
        "        if self.channel_shift_range != 0:\n",
        "            x = random_channel_shift(x, self.channel_shift_range, img_channel_index)\n",
        "\n",
        "        if self.horizontal_flip:\n",
        "            if np.random.random() < 0.5:\n",
        "                x = flip_axis(x, img_col_index)\n",
        "                y = flip_axis(y, img_col_index)\n",
        "\n",
        "        if self.vertical_flip:\n",
        "            if np.random.random() < 0.5:\n",
        "                x = flip_axis(x, img_row_index)\n",
        "                y = flip_axis(y, img_row_index)\n",
        "\n",
        "        # TODO:\n",
        "        # channel-wise normalization\n",
        "        # barrel/fisheye\n",
        "        return x, y\n",
        "\n",
        "    def fit(self, X,\n",
        "            augment=False,\n",
        "            rounds=1,\n",
        "            seed=None):\n",
        "        '''Required for featurewise_center, featurewise_std_normalization\n",
        "        and zca_whitening.\n",
        "        # Arguments\n",
        "            X: Numpy array, the data to fit on.\n",
        "            augment: whether to fit on randomly augmented samples\n",
        "            rounds: if `augment`,\n",
        "                how many augmentation passes to do over the data\n",
        "            seed: random seed.\n",
        "        # Only applied to X\n",
        "        '''\n",
        "        X = np.copy(X)\n",
        "        if augment:\n",
        "            aX = np.zeros(tuple([rounds * X.shape[0]] + list(X.shape)[1:]))\n",
        "            for r in range(rounds):\n",
        "                for i in range(X.shape[0]):\n",
        "                    aX[i + r * X.shape[0]] = self.random_transform(X[i])\n",
        "            X = aX\n",
        "\n",
        "        if self.featurewise_center:\n",
        "            self.mean = np.mean(X, axis=0)\n",
        "            X -= self.mean\n",
        "\n",
        "        if self.featurewise_std_normalization:\n",
        "            self.std = np.std(X, axis=0)\n",
        "            X /= (self.std + 1e-7)\n",
        "\n",
        "        if self.zca_whitening:\n",
        "            flatX = np.reshape(X, (X.shape[0], X.shape[1] * X.shape[2] * X.shape[3]))\n",
        "            sigma = np.dot(flatX.T, flatX) / flatX.shape[1]\n",
        "            U, S, V = linalg.svd(sigma)\n",
        "            self.principal_components = np.dot(np.dot(U, np.diag(1. / np.sqrt(S + 10e-7))), U.T)\n",
        "\n",
        "\n",
        "class Iterator(object):\n",
        "\n",
        "    def __init__(self, N, batch_size, shuffle, seed):\n",
        "        self.N = N\n",
        "        self.batch_size = batch_size\n",
        "        self.shuffle = shuffle\n",
        "        self.batch_index = 0\n",
        "        self.total_batches_seen = 0\n",
        "        self.lock = threading.Lock()\n",
        "        self.index_generator = self._flow_index(N, batch_size, shuffle, seed)\n",
        "\n",
        "    def reset(self):\n",
        "        self.batch_index = 0\n",
        "\n",
        "    def _flow_index(self, N, batch_size=32, shuffle=False, seed=None):\n",
        "        # ensure self.batch_index is 0\n",
        "        self.reset()\n",
        "        while 1:\n",
        "            if self.batch_index == 0:\n",
        "                index_array = np.arange(N)\n",
        "                if shuffle:\n",
        "                    if seed is not None:\n",
        "                        np.random.seed(seed + self.total_batches_seen)\n",
        "                    index_array = np.random.permutation(N)\n",
        "\n",
        "            current_index = (self.batch_index * batch_size) % N\n",
        "            if N >= current_index + batch_size:\n",
        "                current_batch_size = batch_size\n",
        "                self.batch_index += 1\n",
        "            else:\n",
        "                current_batch_size = N - current_index\n",
        "                self.batch_index = 0\n",
        "            self.total_batches_seen += 1\n",
        "            yield (index_array[current_index: current_index + current_batch_size],\n",
        "                   current_index, current_batch_size)\n",
        "\n",
        "    def __iter__(self):\n",
        "        # needed if we want to do something like:\n",
        "        # for x, y in data_gen.flow(...):\n",
        "        return self\n",
        "\n",
        "    def __next__(self, *args, **kwargs):\n",
        "        # ?\n",
        "        return self.next(*args, **kwargs)\n",
        "\n",
        "\n",
        "class NumpyArrayIterator(Iterator):\n",
        "\n",
        "    def __init__(self, X, y, image_data_generator,\n",
        "                 batch_size=32, shuffle=False, seed=None,\n",
        "                 dim_ordering='default',\n",
        "                 save_to_dir=None, save_prefix='', save_format='jpeg'):\n",
        "        if len(X) != len(y):\n",
        "            raise Exception('X (images tensor) and y (labels) '\n",
        "                            'should have the same length. '\n",
        "                            'Found: X.shape = %s, y.shape = %s' % (np.asarray(X).shape, np.asarray(y).shape))\n",
        "        if dim_ordering == 'default':\n",
        "            dim_ordering = K.image_dim_ordering()\n",
        "        self.X = X\n",
        "        self.y = y\n",
        "        self.image_data_generator = image_data_generator\n",
        "        self.dim_ordering = dim_ordering\n",
        "        self.save_to_dir = save_to_dir\n",
        "        self.save_prefix = save_prefix\n",
        "        self.save_format = save_format\n",
        "        super(NumpyArrayIterator, self).__init__(X.shape[0], batch_size, shuffle, seed)\n",
        "\n",
        "    def next(self):\n",
        "        # for python 2.x.\n",
        "        # Keeps under lock only the mechanism which advances\n",
        "        # the indexing of each batch\n",
        "        # see http://anandology.com/blog/using-iterators-and-generators/\n",
        "        with self.lock:\n",
        "            index_array, current_index, current_batch_size = next(self.index_generator)\n",
        "        # The transformation of images is not under thread lock so it can be done in parallel\n",
        "        batch_x = np.zeros(tuple([current_batch_size] + list(self.X.shape)[1:]))\n",
        "        batch_y = np.zeros(tuple([current_batch_size] + list(self.y.shape)[1:]))\n",
        "        for i, j in enumerate(index_array):\n",
        "            x = self.X[j]\n",
        "            label = self.y[j]\n",
        "            x, label = self.image_data_generator.random_transform(x.astype('float32'), label.astype(\"float32\"))\n",
        "            x = self.image_data_generator.standardize(x)\n",
        "            batch_x[i] = x\n",
        "            batch_y[i] = label\n",
        "        if self.save_to_dir:\n",
        "            for i in range(current_batch_size):\n",
        "                img = array_to_img(batch_x[i], self.dim_ordering, scale=True)\n",
        "                fname = '{prefix}_{index}_{hash}.{format}'.format(prefix=self.save_prefix,\n",
        "                                                                  index=current_index + i,\n",
        "                                                                  hash=np.random.randint(1e4),\n",
        "                                                                  format=self.save_format)\n",
        "                img.save(os.path.join(self.save_to_dir, fname))\n",
        "                mask = array_to_img(batch_y[i], self.dim_ordering, scale=True)\n",
        "                fname = '{prefix}_{index}_{hash}_mask.{format}'.format(prefix=self.save_prefix,\n",
        "                                                                  index=current_index + i,\n",
        "                                                                  hash=np.random.randint(1e4),\n",
        "                                                                  format=self.save_format)\n",
        "                mask.save(os.path.join(self.save_to_dir, fname))\n",
        "        return batch_x, batch_y\n",
        "\n",
        "\n"
      ],
      "execution_count": null,
      "outputs": []
    },
    {
      "cell_type": "code",
      "metadata": {
        "id": "1kz3W46O_V8F",
        "colab_type": "code",
        "colab": {}
      },
      "source": [
        "def dice_coef(y_true, y_pred):\n",
        "    \n",
        "    #y_pred = K.round(y_pred)\n",
        "    y_true_f = K.flatten(y_true)\n",
        "    y_pred_f = K.flatten(y_pred)\n",
        "    intersection = K.sum(y_true_f * y_pred_f)\n",
        "    return (2. * intersection + 1) / (K.sum(y_true_f) + K.sum(y_pred_f) + 1)\n",
        "\n",
        "def dice_coef_loss(y_true, y_pred):\n",
        "    return -dice_coef(y_true, y_pred)"
      ],
      "execution_count": null,
      "outputs": []
    },
    {
      "cell_type": "code",
      "metadata": {
        "id": "nydDuOGd_V8W",
        "colab_type": "code",
        "colab": {}
      },
      "source": [
        "def create_model(learn = 3e-4):\n",
        "    inputs = Input((256, 512,1))\n",
        "    conv1 = Convolution2D(16, 3, 3, activation='relu', border_mode='same',init='he_normal')(inputs)\n",
        "    conv1 = BatchNormalization()(conv1)\n",
        "    conv1 = Convolution2D(16, 3, 3, activation='relu', border_mode='same',init='he_normal')(conv1)\n",
        "    conv1 = BatchNormalization()(conv1)\n",
        "    pool1 = MaxPooling2D(pool_size=(2, 2))(conv1)\n",
        "\n",
        "    conv2 = Convolution2D(32, 3, 3, activation='relu', border_mode='same',init='he_normal')(pool1)\n",
        "    conv2 = BatchNormalization()(conv2)\n",
        "    conv2 = Convolution2D(32, 3, 3, activation='relu', border_mode='same',init='he_normal')(conv2)\n",
        "    conv2 = BatchNormalization()(conv2)\n",
        "    pool2 = MaxPooling2D(pool_size=(2, 2))(conv2)\n",
        "\n",
        "    conv3 = Convolution2D(64, 3, 3, activation='relu', border_mode='same',init='he_normal')(pool2)\n",
        "    conv3 = BatchNormalization()(conv3)\n",
        "    conv3 = Convolution2D(64, 3, 3, activation='relu', border_mode='same',init='he_normal')(conv3)\n",
        "    conv3 = BatchNormalization()(conv3)\n",
        "    pool3 = MaxPooling2D(pool_size=(2, 2))(conv3)\n",
        "\n",
        "    conv4 = Convolution2D(128, 3, 3, activation='relu', border_mode='same',init='he_normal')(pool3)\n",
        "    conv4 = BatchNormalization()(conv4)\n",
        "    conv4 = Convolution2D(128, 3, 3, activation='relu', border_mode='same',init='he_normal')(conv4)\n",
        "    conv4 = BatchNormalization()(conv4)\n",
        "    pool4 = MaxPooling2D(pool_size=(2, 2))(conv4)\n",
        "\n",
        "    conv5 = Convolution2D(256, 3, 3, activation='relu', border_mode='same',init='he_normal')(pool4)\n",
        "    conv5 = BatchNormalization()(conv5)\n",
        "    conv5 = Convolution2D(256, 3, 3, activation='relu', border_mode='same',init='he_normal')(conv5)\n",
        "    conv5 = BatchNormalization()(conv5)\n",
        "\n",
        "    input6 = UpSampling2D(size=(2, 2))(conv5)\n",
        "    input6 = Convolution2D(128,2,2,border_mode='same')(input6)\n",
        "    \n",
        "    up6 =  keras.layers.concatenate([input6, conv4])\n",
        "    conv6 = Convolution2D(128, 3, 3, activation='relu', border_mode='same',init='he_normal')(up6)\n",
        "    conv6 = BatchNormalization()(conv6)\n",
        "    conv6 = Convolution2D(128, 3, 3, activation='relu', border_mode='same',init='he_normal')(conv6)\n",
        "    conv6 = BatchNormalization()(conv6)\n",
        "\n",
        "    input7 = UpSampling2D(size=(2, 2))(conv6)\n",
        "    input7 = Convolution2D(64,2,2,border_mode='same')(input7)\n",
        "  \n",
        "    up7 = keras.layers.concatenate([input7, conv3])\n",
        "    conv7 = Convolution2D(64, 3, 3, activation='relu', border_mode='same',init='he_normal')(up7)\n",
        "    conv7 = BatchNormalization()(conv7)\n",
        "    conv7 = Convolution2D(64, 3, 3, activation='relu', border_mode='same',init='he_normal')(conv7)\n",
        "    conv7 = BatchNormalization()(conv7)\n",
        "\n",
        "    input8 = UpSampling2D(size=(2, 2))(conv7)\n",
        "    input8 = Convolution2D(32,2,2,border_mode='same')(input8)\n",
        "  \n",
        "    up8 = keras.layers.concatenate([input8, conv2])\n",
        "    conv8 = Convolution2D(32, 3, 3, activation='relu', border_mode='same',init='he_normal')(up8)\n",
        "    conv8 = BatchNormalization()(conv8)\n",
        "    conv8 = Convolution2D(32, 3, 3, activation='relu', border_mode='same',init='he_normal')(conv8)\n",
        "    conv8 = BatchNormalization()(conv8)\n",
        "\n",
        "    input9 = UpSampling2D(size=(2, 2))(conv8)\n",
        "    input9 = Convolution2D(16,2,2,border_mode='same')(input9)\n",
        "    \n",
        "    up9 = keras.layers.concatenate([input9, conv1])\n",
        "    conv9 = Convolution2D(16, 3, 3, activation='relu', border_mode='same',init='he_normal')(up9)\n",
        "    conv9 = BatchNormalization()(conv9)\n",
        "    conv9 = Convolution2D(16, 3, 3, activation='relu', border_mode='same',init='he_normal')(conv9)\n",
        "    conv9 = BatchNormalization()(conv9)\n",
        "\n",
        "    conv10 = Convolution2D(1, 1, 1,border_mode='same')(conv9)\n",
        "\n",
        "    conv11 = Activation('sigmoid')(conv10)\n",
        "\n",
        "    model = Model(input=inputs, output=conv11)\n",
        "\n",
        "    model.compile(optimizer=Adam(lr=learn), loss='binary_crossentropy', metrics=[dice_coef,'accuracy'])\n",
        "\n",
        "    return model"
      ],
      "execution_count": null,
      "outputs": []
    },
    {
      "cell_type": "code",
      "metadata": {
        "id": "Pxs1bAur_V8j",
        "colab_type": "code",
        "colab": {
          "base_uri": "https://localhost:8080/",
          "height": 122
        },
        "outputId": "670d1e6e-36ae-406f-a0dd-319e3ef3f7cf"
      },
      "source": [
        "from google.colab import drive\n",
        "drive.mount('/content/drive')"
      ],
      "execution_count": null,
      "outputs": [
        {
          "output_type": "stream",
          "text": [
            "Go to this URL in a browser: https://accounts.google.com/o/oauth2/auth?client_id=947318989803-6bn6qk8qdgf4n4g3pfee6491hc0brc4i.apps.googleusercontent.com&redirect_uri=urn%3aietf%3awg%3aoauth%3a2.0%3aoob&response_type=code&scope=email%20https%3a%2f%2fwww.googleapis.com%2fauth%2fdocs.test%20https%3a%2f%2fwww.googleapis.com%2fauth%2fdrive%20https%3a%2f%2fwww.googleapis.com%2fauth%2fdrive.photos.readonly%20https%3a%2f%2fwww.googleapis.com%2fauth%2fpeopleapi.readonly\n",
            "\n",
            "Enter your authorization code:\n",
            "··········\n",
            "Mounted at /content/drive\n"
          ],
          "name": "stdout"
        }
      ]
    },
    {
      "cell_type": "code",
      "metadata": {
        "id": "8-mpb2szyejY",
        "colab_type": "code",
        "colab": {}
      },
      "source": [
        "import os\n",
        "os.chdir('/content/drive/My Drive')"
      ],
      "execution_count": null,
      "outputs": []
    },
    {
      "cell_type": "code",
      "metadata": {
        "id": "uUOpH-aU_V8v",
        "colab_type": "code",
        "colab": {
          "base_uri": "https://localhost:8080/",
          "height": 34
        },
        "outputId": "11a3cd0a-7b43-4ebc-9473-442a1b94a60b"
      },
      "source": [
        "train_X = np.load('unet/optima data/train_cutimages_conall.npy')\n",
        "train_y = np.load('unet/optima data/train_cutground.npy')\n",
        "\n",
        "print(train_y.shape)\n",
        "#print np.unique(train_y)"
      ],
      "execution_count": null,
      "outputs": [
        {
          "output_type": "stream",
          "text": [
            "(1676, 256, 512)\n"
          ],
          "name": "stdout"
        }
      ]
    },
    {
      "cell_type": "code",
      "metadata": {
        "id": "cExlxDDR_V8_",
        "colab_type": "code",
        "colab": {
          "base_uri": "https://localhost:8080/",
          "height": 51
        },
        "outputId": "6671f3ac-d030-4f9c-d78f-aabbd92787f8"
      },
      "source": [
        "train_X = np.reshape(train_X, (-1,256,512,1))\n",
        "train_y = np.reshape(train_y*1, (-1,256,512,1))\n",
        "\n",
        "train_X = train_X.astype('float32')\n",
        "train_y = train_y.astype('float32')\n",
        "\n",
        "print(train_X.shape)\n",
        "print(train_y.shape)\n"
      ],
      "execution_count": null,
      "outputs": [
        {
          "output_type": "stream",
          "text": [
            "(1676, 256, 512, 1)\n",
            "(1676, 256, 512, 1)\n"
          ],
          "name": "stdout"
        }
      ]
    },
    {
      "cell_type": "code",
      "metadata": {
        "id": "T-2f5A2R_V9T",
        "colab_type": "code",
        "colab": {
          "base_uri": "https://localhost:8080/",
          "height": 34
        },
        "outputId": "00f843fa-2507-4dea-9b36-03070002175b"
      },
      "source": [
        "print(np.max(train_X))"
      ],
      "execution_count": null,
      "outputs": [
        {
          "output_type": "stream",
          "text": [
            "255.0\n"
          ],
          "name": "stdout"
        }
      ]
    },
    {
      "cell_type": "code",
      "metadata": {
        "id": "EVn5hj0X_V9h",
        "colab_type": "code",
        "colab": {}
      },
      "source": [
        "\n",
        "datagen = ImageDataGenerator(featurewise_center=True, featurewise_std_normalization=True, horizontal_flip=True, width_shift_range=0.2, height_shift_range=0.2, shear_range=0.2, fill_mode='constant', dim_ordering=K.common.image_dim_ordering())\n",
        "\n",
        "datagen.fit(train_X)"
      ],
      "execution_count": null,
      "outputs": []
    },
    {
      "cell_type": "code",
      "metadata": {
        "id": "cOO5rACD_V9x",
        "colab_type": "code",
        "colab": {
          "base_uri": "https://localhost:8080/",
          "height": 34
        },
        "outputId": "c15291e2-eb99-450d-edf7-1f43212f591c"
      },
      "source": [
        "mean = np.mean(train_X)\n",
        "std = np.std(train_X)\n",
        "print (mean, std)"
      ],
      "execution_count": null,
      "outputs": [
        {
          "output_type": "stream",
          "text": [
            "67.86644 56.091488\n"
          ],
          "name": "stdout"
        }
      ]
    },
    {
      "cell_type": "code",
      "metadata": {
        "id": "5M8kUgd0-__5",
        "colab_type": "code",
        "colab": {}
      },
      "source": [
        "import keras"
      ],
      "execution_count": null,
      "outputs": []
    },
    {
      "cell_type": "code",
      "metadata": {
        "id": "bULm-70R_V-I",
        "colab_type": "code",
        "colab": {
          "base_uri": "https://localhost:8080/",
          "height": 1000
        },
        "outputId": "94e6af74-fb4d-46e2-9468-4c9481c69b01"
      },
      "source": [
        "#K.clear_session()\n",
        "model = create_model()\n",
        "model.summary()"
      ],
      "execution_count": null,
      "outputs": [
        {
          "output_type": "stream",
          "text": [
            "/usr/local/lib/python3.6/dist-packages/ipykernel_launcher.py:3: UserWarning: Update your `Conv2D` call to the Keras 2 API: `Conv2D(16, (3, 3), activation=\"relu\", padding=\"same\", kernel_initializer=\"he_normal\")`\n",
            "  This is separate from the ipykernel package so we can avoid doing imports until\n",
            "/usr/local/lib/python3.6/dist-packages/ipykernel_launcher.py:5: UserWarning: Update your `Conv2D` call to the Keras 2 API: `Conv2D(16, (3, 3), activation=\"relu\", padding=\"same\", kernel_initializer=\"he_normal\")`\n",
            "  \"\"\"\n",
            "/usr/local/lib/python3.6/dist-packages/ipykernel_launcher.py:9: UserWarning: Update your `Conv2D` call to the Keras 2 API: `Conv2D(32, (3, 3), activation=\"relu\", padding=\"same\", kernel_initializer=\"he_normal\")`\n",
            "  if __name__ == '__main__':\n",
            "/usr/local/lib/python3.6/dist-packages/ipykernel_launcher.py:11: UserWarning: Update your `Conv2D` call to the Keras 2 API: `Conv2D(32, (3, 3), activation=\"relu\", padding=\"same\", kernel_initializer=\"he_normal\")`\n",
            "  # This is added back by InteractiveShellApp.init_path()\n",
            "/usr/local/lib/python3.6/dist-packages/ipykernel_launcher.py:15: UserWarning: Update your `Conv2D` call to the Keras 2 API: `Conv2D(64, (3, 3), activation=\"relu\", padding=\"same\", kernel_initializer=\"he_normal\")`\n",
            "  from ipykernel import kernelapp as app\n",
            "/usr/local/lib/python3.6/dist-packages/ipykernel_launcher.py:17: UserWarning: Update your `Conv2D` call to the Keras 2 API: `Conv2D(64, (3, 3), activation=\"relu\", padding=\"same\", kernel_initializer=\"he_normal\")`\n",
            "/usr/local/lib/python3.6/dist-packages/ipykernel_launcher.py:21: UserWarning: Update your `Conv2D` call to the Keras 2 API: `Conv2D(128, (3, 3), activation=\"relu\", padding=\"same\", kernel_initializer=\"he_normal\")`\n",
            "/usr/local/lib/python3.6/dist-packages/ipykernel_launcher.py:23: UserWarning: Update your `Conv2D` call to the Keras 2 API: `Conv2D(128, (3, 3), activation=\"relu\", padding=\"same\", kernel_initializer=\"he_normal\")`\n",
            "/usr/local/lib/python3.6/dist-packages/ipykernel_launcher.py:27: UserWarning: Update your `Conv2D` call to the Keras 2 API: `Conv2D(256, (3, 3), activation=\"relu\", padding=\"same\", kernel_initializer=\"he_normal\")`\n",
            "/usr/local/lib/python3.6/dist-packages/ipykernel_launcher.py:29: UserWarning: Update your `Conv2D` call to the Keras 2 API: `Conv2D(256, (3, 3), activation=\"relu\", padding=\"same\", kernel_initializer=\"he_normal\")`\n",
            "/usr/local/lib/python3.6/dist-packages/ipykernel_launcher.py:33: UserWarning: Update your `Conv2D` call to the Keras 2 API: `Conv2D(128, (2, 2), padding=\"same\")`\n",
            "/usr/local/lib/python3.6/dist-packages/ipykernel_launcher.py:36: UserWarning: Update your `Conv2D` call to the Keras 2 API: `Conv2D(128, (3, 3), activation=\"relu\", padding=\"same\", kernel_initializer=\"he_normal\")`\n",
            "/usr/local/lib/python3.6/dist-packages/ipykernel_launcher.py:38: UserWarning: Update your `Conv2D` call to the Keras 2 API: `Conv2D(128, (3, 3), activation=\"relu\", padding=\"same\", kernel_initializer=\"he_normal\")`\n",
            "/usr/local/lib/python3.6/dist-packages/ipykernel_launcher.py:42: UserWarning: Update your `Conv2D` call to the Keras 2 API: `Conv2D(64, (2, 2), padding=\"same\")`\n",
            "/usr/local/lib/python3.6/dist-packages/ipykernel_launcher.py:45: UserWarning: Update your `Conv2D` call to the Keras 2 API: `Conv2D(64, (3, 3), activation=\"relu\", padding=\"same\", kernel_initializer=\"he_normal\")`\n",
            "/usr/local/lib/python3.6/dist-packages/ipykernel_launcher.py:47: UserWarning: Update your `Conv2D` call to the Keras 2 API: `Conv2D(64, (3, 3), activation=\"relu\", padding=\"same\", kernel_initializer=\"he_normal\")`\n",
            "/usr/local/lib/python3.6/dist-packages/ipykernel_launcher.py:51: UserWarning: Update your `Conv2D` call to the Keras 2 API: `Conv2D(32, (2, 2), padding=\"same\")`\n",
            "/usr/local/lib/python3.6/dist-packages/ipykernel_launcher.py:54: UserWarning: Update your `Conv2D` call to the Keras 2 API: `Conv2D(32, (3, 3), activation=\"relu\", padding=\"same\", kernel_initializer=\"he_normal\")`\n",
            "/usr/local/lib/python3.6/dist-packages/ipykernel_launcher.py:56: UserWarning: Update your `Conv2D` call to the Keras 2 API: `Conv2D(32, (3, 3), activation=\"relu\", padding=\"same\", kernel_initializer=\"he_normal\")`\n",
            "/usr/local/lib/python3.6/dist-packages/ipykernel_launcher.py:60: UserWarning: Update your `Conv2D` call to the Keras 2 API: `Conv2D(16, (2, 2), padding=\"same\")`\n",
            "/usr/local/lib/python3.6/dist-packages/ipykernel_launcher.py:63: UserWarning: Update your `Conv2D` call to the Keras 2 API: `Conv2D(16, (3, 3), activation=\"relu\", padding=\"same\", kernel_initializer=\"he_normal\")`\n",
            "/usr/local/lib/python3.6/dist-packages/ipykernel_launcher.py:65: UserWarning: Update your `Conv2D` call to the Keras 2 API: `Conv2D(16, (3, 3), activation=\"relu\", padding=\"same\", kernel_initializer=\"he_normal\")`\n",
            "/usr/local/lib/python3.6/dist-packages/ipykernel_launcher.py:68: UserWarning: Update your `Conv2D` call to the Keras 2 API: `Conv2D(1, (1, 1), padding=\"same\")`\n",
            "/usr/local/lib/python3.6/dist-packages/ipykernel_launcher.py:72: UserWarning: Update your `Model` call to the Keras 2 API: `Model(inputs=Tensor(\"in..., outputs=Tensor(\"ac...)`\n"
          ],
          "name": "stderr"
        },
        {
          "output_type": "stream",
          "text": [
            "Model: \"model_1\"\n",
            "__________________________________________________________________________________________________\n",
            "Layer (type)                    Output Shape         Param #     Connected to                     \n",
            "==================================================================================================\n",
            "input_1 (InputLayer)            (None, 256, 512, 1)  0                                            \n",
            "__________________________________________________________________________________________________\n",
            "conv2d_1 (Conv2D)               (None, 256, 512, 16) 160         input_1[0][0]                    \n",
            "__________________________________________________________________________________________________\n",
            "batch_normalization_1 (BatchNor (None, 256, 512, 16) 64          conv2d_1[0][0]                   \n",
            "__________________________________________________________________________________________________\n",
            "conv2d_2 (Conv2D)               (None, 256, 512, 16) 2320        batch_normalization_1[0][0]      \n",
            "__________________________________________________________________________________________________\n",
            "batch_normalization_2 (BatchNor (None, 256, 512, 16) 64          conv2d_2[0][0]                   \n",
            "__________________________________________________________________________________________________\n",
            "max_pooling2d_1 (MaxPooling2D)  (None, 128, 256, 16) 0           batch_normalization_2[0][0]      \n",
            "__________________________________________________________________________________________________\n",
            "conv2d_3 (Conv2D)               (None, 128, 256, 32) 4640        max_pooling2d_1[0][0]            \n",
            "__________________________________________________________________________________________________\n",
            "batch_normalization_3 (BatchNor (None, 128, 256, 32) 128         conv2d_3[0][0]                   \n",
            "__________________________________________________________________________________________________\n",
            "conv2d_4 (Conv2D)               (None, 128, 256, 32) 9248        batch_normalization_3[0][0]      \n",
            "__________________________________________________________________________________________________\n",
            "batch_normalization_4 (BatchNor (None, 128, 256, 32) 128         conv2d_4[0][0]                   \n",
            "__________________________________________________________________________________________________\n",
            "max_pooling2d_2 (MaxPooling2D)  (None, 64, 128, 32)  0           batch_normalization_4[0][0]      \n",
            "__________________________________________________________________________________________________\n",
            "conv2d_5 (Conv2D)               (None, 64, 128, 64)  18496       max_pooling2d_2[0][0]            \n",
            "__________________________________________________________________________________________________\n",
            "batch_normalization_5 (BatchNor (None, 64, 128, 64)  256         conv2d_5[0][0]                   \n",
            "__________________________________________________________________________________________________\n",
            "conv2d_6 (Conv2D)               (None, 64, 128, 64)  36928       batch_normalization_5[0][0]      \n",
            "__________________________________________________________________________________________________\n",
            "batch_normalization_6 (BatchNor (None, 64, 128, 64)  256         conv2d_6[0][0]                   \n",
            "__________________________________________________________________________________________________\n",
            "max_pooling2d_3 (MaxPooling2D)  (None, 32, 64, 64)   0           batch_normalization_6[0][0]      \n",
            "__________________________________________________________________________________________________\n",
            "conv2d_7 (Conv2D)               (None, 32, 64, 128)  73856       max_pooling2d_3[0][0]            \n",
            "__________________________________________________________________________________________________\n",
            "batch_normalization_7 (BatchNor (None, 32, 64, 128)  512         conv2d_7[0][0]                   \n",
            "__________________________________________________________________________________________________\n",
            "conv2d_8 (Conv2D)               (None, 32, 64, 128)  147584      batch_normalization_7[0][0]      \n",
            "__________________________________________________________________________________________________\n",
            "batch_normalization_8 (BatchNor (None, 32, 64, 128)  512         conv2d_8[0][0]                   \n",
            "__________________________________________________________________________________________________\n",
            "max_pooling2d_4 (MaxPooling2D)  (None, 16, 32, 128)  0           batch_normalization_8[0][0]      \n",
            "__________________________________________________________________________________________________\n",
            "conv2d_9 (Conv2D)               (None, 16, 32, 256)  295168      max_pooling2d_4[0][0]            \n",
            "__________________________________________________________________________________________________\n",
            "batch_normalization_9 (BatchNor (None, 16, 32, 256)  1024        conv2d_9[0][0]                   \n",
            "__________________________________________________________________________________________________\n",
            "conv2d_10 (Conv2D)              (None, 16, 32, 256)  590080      batch_normalization_9[0][0]      \n",
            "__________________________________________________________________________________________________\n",
            "batch_normalization_10 (BatchNo (None, 16, 32, 256)  1024        conv2d_10[0][0]                  \n",
            "__________________________________________________________________________________________________\n",
            "up_sampling2d_1 (UpSampling2D)  (None, 32, 64, 256)  0           batch_normalization_10[0][0]     \n",
            "__________________________________________________________________________________________________\n",
            "conv2d_11 (Conv2D)              (None, 32, 64, 128)  131200      up_sampling2d_1[0][0]            \n",
            "__________________________________________________________________________________________________\n",
            "concatenate_1 (Concatenate)     (None, 32, 64, 256)  0           conv2d_11[0][0]                  \n",
            "                                                                 batch_normalization_8[0][0]      \n",
            "__________________________________________________________________________________________________\n",
            "conv2d_12 (Conv2D)              (None, 32, 64, 128)  295040      concatenate_1[0][0]              \n",
            "__________________________________________________________________________________________________\n",
            "batch_normalization_11 (BatchNo (None, 32, 64, 128)  512         conv2d_12[0][0]                  \n",
            "__________________________________________________________________________________________________\n",
            "conv2d_13 (Conv2D)              (None, 32, 64, 128)  147584      batch_normalization_11[0][0]     \n",
            "__________________________________________________________________________________________________\n",
            "batch_normalization_12 (BatchNo (None, 32, 64, 128)  512         conv2d_13[0][0]                  \n",
            "__________________________________________________________________________________________________\n",
            "up_sampling2d_2 (UpSampling2D)  (None, 64, 128, 128) 0           batch_normalization_12[0][0]     \n",
            "__________________________________________________________________________________________________\n",
            "conv2d_14 (Conv2D)              (None, 64, 128, 64)  32832       up_sampling2d_2[0][0]            \n",
            "__________________________________________________________________________________________________\n",
            "concatenate_2 (Concatenate)     (None, 64, 128, 128) 0           conv2d_14[0][0]                  \n",
            "                                                                 batch_normalization_6[0][0]      \n",
            "__________________________________________________________________________________________________\n",
            "conv2d_15 (Conv2D)              (None, 64, 128, 64)  73792       concatenate_2[0][0]              \n",
            "__________________________________________________________________________________________________\n",
            "batch_normalization_13 (BatchNo (None, 64, 128, 64)  256         conv2d_15[0][0]                  \n",
            "__________________________________________________________________________________________________\n",
            "conv2d_16 (Conv2D)              (None, 64, 128, 64)  36928       batch_normalization_13[0][0]     \n",
            "__________________________________________________________________________________________________\n",
            "batch_normalization_14 (BatchNo (None, 64, 128, 64)  256         conv2d_16[0][0]                  \n",
            "__________________________________________________________________________________________________\n",
            "up_sampling2d_3 (UpSampling2D)  (None, 128, 256, 64) 0           batch_normalization_14[0][0]     \n",
            "__________________________________________________________________________________________________\n",
            "conv2d_17 (Conv2D)              (None, 128, 256, 32) 8224        up_sampling2d_3[0][0]            \n",
            "__________________________________________________________________________________________________\n",
            "concatenate_3 (Concatenate)     (None, 128, 256, 64) 0           conv2d_17[0][0]                  \n",
            "                                                                 batch_normalization_4[0][0]      \n",
            "__________________________________________________________________________________________________\n",
            "conv2d_18 (Conv2D)              (None, 128, 256, 32) 18464       concatenate_3[0][0]              \n",
            "__________________________________________________________________________________________________\n",
            "batch_normalization_15 (BatchNo (None, 128, 256, 32) 128         conv2d_18[0][0]                  \n",
            "__________________________________________________________________________________________________\n",
            "conv2d_19 (Conv2D)              (None, 128, 256, 32) 9248        batch_normalization_15[0][0]     \n",
            "__________________________________________________________________________________________________\n",
            "batch_normalization_16 (BatchNo (None, 128, 256, 32) 128         conv2d_19[0][0]                  \n",
            "__________________________________________________________________________________________________\n",
            "up_sampling2d_4 (UpSampling2D)  (None, 256, 512, 32) 0           batch_normalization_16[0][0]     \n",
            "__________________________________________________________________________________________________\n",
            "conv2d_20 (Conv2D)              (None, 256, 512, 16) 2064        up_sampling2d_4[0][0]            \n",
            "__________________________________________________________________________________________________\n",
            "concatenate_4 (Concatenate)     (None, 256, 512, 32) 0           conv2d_20[0][0]                  \n",
            "                                                                 batch_normalization_2[0][0]      \n",
            "__________________________________________________________________________________________________\n",
            "conv2d_21 (Conv2D)              (None, 256, 512, 16) 4624        concatenate_4[0][0]              \n",
            "__________________________________________________________________________________________________\n",
            "batch_normalization_17 (BatchNo (None, 256, 512, 16) 64          conv2d_21[0][0]                  \n",
            "__________________________________________________________________________________________________\n",
            "conv2d_22 (Conv2D)              (None, 256, 512, 16) 2320        batch_normalization_17[0][0]     \n",
            "__________________________________________________________________________________________________\n",
            "batch_normalization_18 (BatchNo (None, 256, 512, 16) 64          conv2d_22[0][0]                  \n",
            "__________________________________________________________________________________________________\n",
            "conv2d_23 (Conv2D)              (None, 256, 512, 1)  17          batch_normalization_18[0][0]     \n",
            "__________________________________________________________________________________________________\n",
            "activation_1 (Activation)       (None, 256, 512, 1)  0           conv2d_23[0][0]                  \n",
            "==================================================================================================\n",
            "Total params: 1,946,705\n",
            "Trainable params: 1,943,761\n",
            "Non-trainable params: 2,944\n",
            "__________________________________________________________________________________________________\n"
          ],
          "name": "stdout"
        }
      ]
    },
    {
      "cell_type": "code",
      "metadata": {
        "id": "HGoh49D7_V-e",
        "colab_type": "code",
        "colab": {}
      },
      "source": [
        "bestdc = 0"
      ],
      "execution_count": null,
      "outputs": []
    },
    {
      "cell_type": "code",
      "metadata": {
        "id": "UJPHsu5y_WAK",
        "colab_type": "code",
        "colab": {
          "base_uri": "https://localhost:8080/",
          "height": 51
        },
        "outputId": "525699d4-2b8c-45f4-d8e4-a13f8a4531f8"
      },
      "source": [
        "test1_X = np.load('unet/optima data/test1_cutimages_conall.npy')\n",
        "test1_y1 = np.load('unet/optima data/test1_cutgrader1.npy')\n",
        "test1_y2 = np.load('unet/optima data/test1_cutgrader2.npy')\n",
        "test1_y3 = np.load('unet/optima data/test1_cutgrader3.npy')\n",
        "\n",
        "print (test1_y1.shape)\n",
        "print (np.max(test1_X))"
      ],
      "execution_count": null,
      "outputs": [
        {
          "output_type": "stream",
          "text": [
            "(620, 256, 512)\n",
            "255\n"
          ],
          "name": "stdout"
        }
      ]
    },
    {
      "cell_type": "code",
      "metadata": {
        "scrolled": true,
        "id": "QoPvlVLy_WAR",
        "colab_type": "code",
        "colab": {
          "base_uri": "https://localhost:8080/",
          "height": 85
        },
        "outputId": "87a4d213-7ef9-4fac-8fef-6a00bc79d111"
      },
      "source": [
        "test1_X = np.reshape(test1_X, (-1,256,512,1))\n",
        "test1_y1 = np.reshape(test1_y1*1, (-1,256,512,1))\n",
        "test1_y2 = np.reshape(test1_y2*1, (-1,256,512,1))\n",
        "test1_y3 = np.reshape(test1_y3*1, (-1,256,512,1))\n",
        "\n",
        "test1_X = test1_X.astype('float32')\n",
        "test1_y1 = test1_y1.astype('float32')\n",
        "test1_y2 = test1_y2.astype('float32')\n",
        "test1_y3 = test1_y3.astype('float32')\n",
        "\n",
        "print (test1_X.shape)\n",
        "print (test1_y1.shape)\n",
        "print (test1_y2.shape)\n",
        "print (test1_y3.shape)"
      ],
      "execution_count": null,
      "outputs": [
        {
          "output_type": "stream",
          "text": [
            "(620, 256, 512, 1)\n",
            "(620, 256, 512, 1)\n",
            "(620, 256, 512, 1)\n",
            "(620, 256, 512, 1)\n"
          ],
          "name": "stdout"
        }
      ]
    },
    {
      "cell_type": "code",
      "metadata": {
        "id": "I0DQNizv_WAe",
        "colab_type": "code",
        "colab": {
          "base_uri": "https://localhost:8080/",
          "height": 34
        },
        "outputId": "6bd0c183-a713-473d-8cc0-dfc48f6aa87f"
      },
      "source": [
        "mean = np.mean(train_X)\n",
        "std = np.std(train_X)\n",
        "print (mean, std)\n"
      ],
      "execution_count": null,
      "outputs": [
        {
          "output_type": "stream",
          "text": [
            "67.86644 56.091488\n"
          ],
          "name": "stdout"
        }
      ]
    },
    {
      "cell_type": "code",
      "metadata": {
        "id": "wCB3ji7a_WAm",
        "colab_type": "code",
        "colab": {
          "base_uri": "https://localhost:8080/",
          "height": 34
        },
        "outputId": "cb34083a-1816-4846-c93c-7ae971658417"
      },
      "source": [
        "res1 = test1_X - mean\n",
        "res1 = res1 / std\n",
        "print (res1.shape)"
      ],
      "execution_count": null,
      "outputs": [
        {
          "output_type": "stream",
          "text": [
            "(620, 256, 512, 1)\n"
          ],
          "name": "stdout"
        }
      ]
    },
    {
      "cell_type": "code",
      "metadata": {
        "id": "3rw7sv8p_WAv",
        "colab_type": "code",
        "colab": {
          "base_uri": "https://localhost:8080/",
          "height": 34
        },
        "outputId": "63b60d64-2bae-4e49-e84f-5f7307572efa"
      },
      "source": [
        "print (np.max(res1))"
      ],
      "execution_count": null,
      "outputs": [
        {
          "output_type": "stream",
          "text": [
            "3.3362203\n"
          ],
          "name": "stdout"
        }
      ]
    },
    {
      "cell_type": "code",
      "metadata": {
        "id": "3t-wNL6T_WA3",
        "colab_type": "code",
        "colab": {
          "base_uri": "https://localhost:8080/",
          "height": 51
        },
        "outputId": "c517a836-51db-48ad-b6cc-a87706b0b1b7"
      },
      "source": [
        "#Validation Data Creation\n",
        "\n",
        "val_x = []\n",
        "val_gt = []\n",
        "val_x.append(test1_X[0:128])\n",
        "val_gt.append(test1_y3[0:128])\n",
        "\n",
        "val_x.append(test1_X[128:256])\n",
        "val_gt.append(test1_y3[128:256])\n",
        "\n",
        "val_x.append(test1_X[256:261])\n",
        "val_gt.append(test1_y3[256:261])\n",
        "\n",
        "val_x.append(test1_X[261:266])\n",
        "val_gt.append(test1_y3[261:266])\n",
        "\n",
        "val_x.append(test1_X[266:315])\n",
        "val_gt.append(test1_y3[266:315])\n",
        "\n",
        "val_x.append(test1_X[315:364])\n",
        "val_gt.append(test1_y3[315:364])\n",
        "\n",
        "val_x.append(test1_X[364:492])\n",
        "val_gt.append(test1_y3[364:492])\n",
        "\n",
        "val_x.append(test1_X[492:620])\n",
        "val_gt.append(test1_y3[492:620])\n",
        "\n",
        "val_x = np.array(val_x)\n",
        "val_gt = np.array(val_gt)\n",
        "\n",
        "\n",
        "\n",
        "val_x = val_x - mean\n",
        "val_x = val_x / std\n",
        "\n",
        "print (val_x.shape)\n",
        "print (val_gt.shape)"
      ],
      "execution_count": null,
      "outputs": [
        {
          "output_type": "stream",
          "text": [
            "(8,)\n",
            "(8,)\n"
          ],
          "name": "stdout"
        }
      ]
    },
    {
      "cell_type": "code",
      "metadata": {
        "id": "U5LS9L_9_WA9",
        "colab_type": "code",
        "colab": {
          "base_uri": "https://localhost:8080/",
          "height": 34
        },
        "outputId": "dc913f20-7f0a-407e-c888-14b1de9bfb10"
      },
      "source": [
        "print (np.max(val_x[0]))"
      ],
      "execution_count": null,
      "outputs": [
        {
          "output_type": "stream",
          "text": [
            "3.3362203\n"
          ],
          "name": "stdout"
        }
      ]
    },
    {
      "cell_type": "code",
      "metadata": {
        "id": "F1yrM7yFep4v",
        "colab_type": "code",
        "colab": {}
      },
      "source": [
        "model_checkpoint = ModelCheckpoint('unet_trial', monitor='val_loss', save_best_only=True)"
      ],
      "execution_count": null,
      "outputs": []
    },
    {
      "cell_type": "code",
      "metadata": {
        "id": "oDshSniS_WBE",
        "colab_type": "code",
        "colab": {
          "base_uri": "https://localhost:8080/",
          "height": 1000
        },
        "outputId": "1892174a-f4bc-40ac-ce83-589915a14b03"
      },
      "source": [
        "epochs = 50\n",
        "for i in range(epochs):\n",
        "    print(i)\n",
        "    history= model.fit_generator(datagen.flow(train_X, train_y, batch_size=4), nb_epoch=1, samples_per_epoch=len(train_X))                           \n",
        "    total=0\n",
        "    for j in range(8):\n",
        "        val_pred = model.predict(val_x[j], batch_size=4)\n",
        "        val_result = np.zeros(val_pred.shape)\n",
        "        #print test1_result.shape\n",
        "        val_result[val_pred>0.5] = 1\n",
        "        dice = dc(val_result,val_gt[j])\n",
        "        print(\"Volume \"+str(j)+\": \"+str(dice))\n",
        "        total += dice\n",
        "    mean = total/8.0\n",
        "    print (\"Average dc: \"+str(mean))\n",
        "    if mean > bestdc:\n",
        "        model.save_weights('best2_new7.h5')\n",
        "        bestdc = mean\n",
        "        #test1results(model)\n",
        "        #test2results(model)\n",
        "    print (\"Best dc: \"+str(bestdc))\n",
        "    print (\"\")"
      ],
      "execution_count": null,
      "outputs": [
        {
          "output_type": "stream",
          "text": [
            "0\n"
          ],
          "name": "stdout"
        },
        {
          "output_type": "stream",
          "text": [
            "/usr/local/lib/python3.6/dist-packages/ipykernel_launcher.py:4: UserWarning: The semantics of the Keras 2 argument `steps_per_epoch` is not the same as the Keras 1 argument `samples_per_epoch`. `steps_per_epoch` is the number of batches to draw from the generator at each epoch. Basically steps_per_epoch = samples_per_epoch/batch_size. Similarly `nb_val_samples`->`validation_steps` and `val_samples`->`steps` arguments have changed. Update your method calls accordingly.\n",
            "  after removing the cwd from sys.path.\n",
            "/usr/local/lib/python3.6/dist-packages/ipykernel_launcher.py:4: UserWarning: Update your `fit_generator` call to the Keras 2 API: `fit_generator(<__main__...., steps_per_epoch=419, epochs=1)`\n",
            "  after removing the cwd from sys.path.\n"
          ],
          "name": "stderr"
        },
        {
          "output_type": "stream",
          "text": [
            "Epoch 1/1\n",
            "419/419 [==============================] - 163s 390ms/step - loss: 0.5171 - dice_coef: 0.0423 - accuracy: 0.8969\n",
            "Volume 0: 0.0\n",
            "Volume 1: 0.25415404972136696\n",
            "Volume 2: 0.4370079687989022\n",
            "Volume 3: 0.41160782010815045\n",
            "Volume 4: 0.2891782874265299\n",
            "Volume 5: 0.017308918648082355\n",
            "Volume 6: 0.28426676255666716\n",
            "Volume 7: 0.5773763547033389\n",
            "Average dc: 0.2838625202453797\n",
            "Best dc: 0.2838625202453797\n",
            "\n",
            "1\n",
            "Epoch 1/1\n",
            "419/419 [==============================] - 151s 361ms/step - loss: 0.2232 - dice_coef: 0.0747 - accuracy: 0.9856\n",
            "Volume 0: 0.0\n",
            "Volume 1: 0.5295097572584484\n",
            "Volume 2: 0.5859000357867112\n",
            "Volume 3: 0.6971365322140126\n",
            "Volume 4: 0.47843934477501077\n",
            "Volume 5: 0.108680635505411\n",
            "Volume 6: 0.3956729812656425\n",
            "Volume 7: 0.6510061634158834\n",
            "Average dc: 0.43079318127763994\n",
            "Best dc: 0.43079318127763994\n",
            "\n",
            "2\n",
            "Epoch 1/1\n",
            "419/419 [==============================] - 151s 361ms/step - loss: 0.1008 - dice_coef: 0.1383 - accuracy: 0.9887\n",
            "Volume 0: 0.0\n",
            "Volume 1: 0.24982435739031422\n",
            "Volume 2: 0.6084057170769002\n",
            "Volume 3: 0.7146567390392666\n",
            "Volume 4: 0.6614464598407507\n",
            "Volume 5: 0.20393276244846179\n",
            "Volume 6: 0.5431288507902491\n",
            "Volume 7: 0.6999004395686967\n",
            "Average dc: 0.46016191576932997\n",
            "Best dc: 0.46016191576932997\n",
            "\n",
            "3\n",
            "Epoch 1/1\n",
            "419/419 [==============================] - 151s 361ms/step - loss: 0.0612 - dice_coef: 0.2038 - accuracy: 0.9891\n",
            "Volume 0: 0.0\n",
            "Volume 1: 0.5612361055310031\n",
            "Volume 2: 0.6957219966989339\n",
            "Volume 3: 0.743010041488786\n",
            "Volume 4: 0.6544061883816169\n",
            "Volume 5: 0.15327215891902793\n",
            "Volume 6: 0.45765396895030586\n",
            "Volume 7: 0.7104001438921708\n",
            "Average dc: 0.4969625754827306\n",
            "Best dc: 0.4969625754827306\n",
            "\n",
            "4\n",
            "Epoch 1/1\n",
            "419/419 [==============================] - 152s 362ms/step - loss: 0.0444 - dice_coef: 0.2641 - accuracy: 0.9901\n",
            "Volume 0: 0.0\n",
            "Volume 1: 0.6369572444976395\n",
            "Volume 2: 0.5487284367775209\n",
            "Volume 3: 0.6681557870418693\n",
            "Volume 4: 0.6305049140970815\n",
            "Volume 5: 0.20130718954248367\n",
            "Volume 6: 0.4824766881391054\n",
            "Volume 7: 0.6844638474992204\n",
            "Average dc: 0.48157426344936516\n",
            "Best dc: 0.4969625754827306\n",
            "\n",
            "5\n",
            "Epoch 1/1\n",
            "419/419 [==============================] - 152s 362ms/step - loss: 0.0365 - dice_coef: 0.3065 - accuracy: 0.9905\n",
            "Volume 0: 0.0\n",
            "Volume 1: 0.6954884112797978\n",
            "Volume 2: 0.38153241650294695\n",
            "Volume 3: 0.7768451726511312\n",
            "Volume 4: 0.716880066454699\n",
            "Volume 5: 0.24613003095975233\n",
            "Volume 6: 0.410709072964595\n",
            "Volume 7: 0.7204617339770938\n",
            "Average dc: 0.493505863098752\n",
            "Best dc: 0.4969625754827306\n",
            "\n",
            "6\n",
            "Epoch 1/1\n",
            "419/419 [==============================] - 152s 362ms/step - loss: 0.0323 - dice_coef: 0.3301 - accuracy: 0.9906\n",
            "Volume 0: 0.0\n",
            "Volume 1: 0.7238287411365154\n",
            "Volume 2: 0.6769921817064644\n",
            "Volume 3: 0.699448679023617\n",
            "Volume 4: 0.7281525029511798\n",
            "Volume 5: 0.3841171500985638\n",
            "Volume 6: 0.4948665783497351\n",
            "Volume 7: 0.7063003610673954\n",
            "Average dc: 0.5517132742916838\n",
            "Best dc: 0.5517132742916838\n",
            "\n",
            "7\n",
            "Epoch 1/1\n",
            "419/419 [==============================] - 152s 363ms/step - loss: 0.0290 - dice_coef: 0.3573 - accuracy: 0.9910\n",
            "Volume 0: 0.0\n",
            "Volume 1: 0.6553580772022212\n",
            "Volume 2: 0.6513675783855903\n",
            "Volume 3: 0.7508678112393282\n",
            "Volume 4: 0.59553857241021\n",
            "Volume 5: 0.14518413597733712\n",
            "Volume 6: 0.4252234304529482\n",
            "Volume 7: 0.6784055182168288\n",
            "Average dc: 0.48774314048555795\n",
            "Best dc: 0.5517132742916838\n",
            "\n",
            "8\n",
            "Epoch 1/1\n",
            "419/419 [==============================] - 152s 362ms/step - loss: 0.0266 - dice_coef: 0.3860 - accuracy: 0.9913\n",
            "Volume 0: 0.0029770630821624303\n",
            "Volume 1: 0.7507137446833304\n",
            "Volume 2: 0.47693245715059956\n",
            "Volume 3: 0.7802035896062148\n",
            "Volume 4: 0.7117083207869116\n",
            "Volume 5: 0.21955870335058567\n",
            "Volume 6: 0.6138891321481741\n",
            "Volume 7: 0.7461783685000521\n",
            "Average dc: 0.5377701724135038\n",
            "Best dc: 0.5517132742916838\n",
            "\n",
            "9\n",
            "Epoch 1/1\n",
            "419/419 [==============================] - 152s 362ms/step - loss: 0.0251 - dice_coef: 0.3919 - accuracy: 0.9915\n",
            "Volume 0: 0.0\n",
            "Volume 1: 0.7393912250675795\n",
            "Volume 2: 0.7032427608092027\n",
            "Volume 3: 0.799093413768989\n",
            "Volume 4: 0.7209811908998661\n",
            "Volume 5: 0.12659979245935662\n",
            "Volume 6: 0.2650133471109963\n",
            "Volume 7: 0.7439019257709397\n",
            "Average dc: 0.5122779569858662\n",
            "Best dc: 0.5517132742916838\n",
            "\n",
            "10\n",
            "Epoch 1/1\n",
            "419/419 [==============================] - 152s 362ms/step - loss: 0.0229 - dice_coef: 0.4295 - accuracy: 0.9921\n",
            "Volume 0: 0.0\n",
            "Volume 1: 0.7136932305055699\n",
            "Volume 2: 0.38938830956090936\n",
            "Volume 3: 0.7860927981306851\n",
            "Volume 4: 0.6056481003810886\n",
            "Volume 5: 0.02455795677799607\n",
            "Volume 6: 0.325336549431207\n",
            "Volume 7: 0.7199122386180639\n",
            "Average dc: 0.44557864792568996\n",
            "Best dc: 0.5517132742916838\n",
            "\n",
            "11\n",
            "Epoch 1/1\n",
            "419/419 [==============================] - 151s 361ms/step - loss: 0.0219 - dice_coef: 0.4402 - accuracy: 0.9922\n",
            "Volume 0: 0.0\n",
            "Volume 1: 0.5153987781404301\n",
            "Volume 2: 0.36998129799848795\n",
            "Volume 3: 0.8034914766892586\n",
            "Volume 4: 0.6226051134505983\n",
            "Volume 5: 0.00039335234536335925\n",
            "Volume 6: 0.007322028443264337\n",
            "Volume 7: 0.6429225378774841\n",
            "Average dc: 0.37026432311811086\n",
            "Best dc: 0.5517132742916838\n",
            "\n",
            "12\n",
            "Epoch 1/1\n",
            "419/419 [==============================] - 151s 361ms/step - loss: 0.0229 - dice_coef: 0.4297 - accuracy: 0.9919\n",
            "Volume 0: 0.0\n",
            "Volume 1: 0.7683700453996546\n",
            "Volume 2: 0.4121515093251298\n",
            "Volume 3: 0.8272460475243776\n",
            "Volume 4: 0.38280688167284393\n",
            "Volume 5: 0.3029366306027821\n",
            "Volume 6: 0.24655423037181037\n",
            "Volume 7: 0.732171497088254\n",
            "Average dc: 0.45902960524810654\n",
            "Best dc: 0.5517132742916838\n",
            "\n",
            "13\n",
            "Epoch 1/1\n",
            "419/419 [==============================] - 151s 360ms/step - loss: 0.0204 - dice_coef: 0.4469 - accuracy: 0.9926\n",
            "Volume 0: 0.0011918677943569644\n",
            "Volume 1: 0.7655550764930643\n",
            "Volume 2: 0.530136846752012\n",
            "Volume 3: 0.8333099887011981\n",
            "Volume 4: 0.3680446341646072\n",
            "Volume 5: 0.21814195670046588\n",
            "Volume 6: 0.4559926208045703\n",
            "Volume 7: 0.7677372575612134\n",
            "Average dc: 0.49251378112143596\n",
            "Best dc: 0.5517132742916838\n",
            "\n",
            "14\n",
            "Epoch 1/1\n",
            "419/419 [==============================] - 151s 360ms/step - loss: 0.0220 - dice_coef: 0.4392 - accuracy: 0.9921\n",
            "Volume 0: 0.0\n",
            "Volume 1: 0.7541447634452082\n",
            "Volume 2: 0.5119585911470729\n",
            "Volume 3: 0.7968469578069466\n",
            "Volume 4: 0.6732297324481995\n",
            "Volume 5: 0.2798753030827849\n",
            "Volume 6: 0.47032052171499933\n",
            "Volume 7: 0.7791357662188627\n",
            "Average dc: 0.5331889544830093\n",
            "Best dc: 0.5517132742916838\n",
            "\n",
            "15\n",
            "Epoch 1/1\n",
            "419/419 [==============================] - 151s 360ms/step - loss: 0.0197 - dice_coef: 0.4645 - accuracy: 0.9928\n",
            "Volume 0: 0.0\n",
            "Volume 1: 0.758473919355066\n",
            "Volume 2: 0.5183006988168546\n",
            "Volume 3: 0.8306219550414542\n",
            "Volume 4: 0.5430010070493454\n",
            "Volume 5: 0.12593423019431987\n",
            "Volume 6: 0.1481824410659062\n",
            "Volume 7: 0.6952994080181246\n",
            "Average dc: 0.4524767074426339\n",
            "Best dc: 0.5517132742916838\n",
            "\n",
            "16\n",
            "Epoch 1/1\n",
            "419/419 [==============================] - 152s 362ms/step - loss: 0.0194 - dice_coef: 0.4681 - accuracy: 0.9929\n",
            "Volume 0: 0.0\n",
            "Volume 1: 0.6929964256644371\n",
            "Volume 2: 0.5638782315608304\n",
            "Volume 3: 0.8454964863444355\n",
            "Volume 4: 0.607274480227658\n",
            "Volume 5: 0.2399232245681382\n",
            "Volume 6: 0.4157948236765971\n",
            "Volume 7: 0.7631658327398926\n",
            "Average dc: 0.5160661880977486\n",
            "Best dc: 0.5517132742916838\n",
            "\n",
            "17\n",
            "Epoch 1/1\n",
            "419/419 [==============================] - 151s 362ms/step - loss: 0.0196 - dice_coef: 0.4446 - accuracy: 0.9926\n",
            "Volume 0: 0.0\n",
            "Volume 1: 0.7793852785733266\n",
            "Volume 2: 0.6375296912114015\n",
            "Volume 3: 0.8177667081776671\n",
            "Volume 4: 0.662590740941384\n",
            "Volume 5: 0.1326010200078462\n",
            "Volume 6: 0.3235574514841566\n",
            "Volume 7: 0.739136743257439\n",
            "Average dc: 0.5115709542066527\n",
            "Best dc: 0.5517132742916838\n",
            "\n",
            "18\n",
            "Epoch 1/1\n",
            "419/419 [==============================] - 151s 361ms/step - loss: 0.0181 - dice_coef: 0.4900 - accuracy: 0.9931\n",
            "Volume 0: 0.0\n",
            "Volume 1: 0.7385186028729929\n",
            "Volume 2: 0.3819728447570751\n",
            "Volume 3: 0.8231550857025557\n",
            "Volume 4: 0.50556009521441\n",
            "Volume 5: 0.24307036247334754\n",
            "Volume 6: 0.16476397319522562\n",
            "Volume 7: 0.6646191146990302\n",
            "Average dc: 0.44020750986432966\n",
            "Best dc: 0.5517132742916838\n",
            "\n",
            "19\n",
            "Epoch 1/1\n",
            "419/419 [==============================] - 151s 361ms/step - loss: 0.0191 - dice_coef: 0.4783 - accuracy: 0.9927\n",
            "Volume 0: 0.0\n",
            "Volume 1: 0.7834530026109661\n",
            "Volume 2: 0.6375835394411409\n",
            "Volume 3: 0.8223440171877056\n",
            "Volume 4: 0.7207351966961253\n",
            "Volume 5: 0.15120663650075414\n",
            "Volume 6: 0.4704378214052334\n",
            "Volume 7: 0.7684214499881361\n",
            "Average dc: 0.5442727079787577\n",
            "Best dc: 0.5517132742916838\n",
            "\n",
            "20\n",
            "Epoch 1/1\n",
            "419/419 [==============================] - 151s 362ms/step - loss: 0.0183 - dice_coef: 0.4888 - accuracy: 0.9930\n",
            "Volume 0: 0.0\n",
            "Volume 1: 0.788020994133992\n",
            "Volume 2: 0.49067599067599066\n",
            "Volume 3: 0.8119089720919505\n",
            "Volume 4: 0.6562252015202773\n",
            "Volume 5: 0.18103241296518607\n",
            "Volume 6: 0.4177266492081307\n",
            "Volume 7: 0.7446879637584941\n",
            "Average dc: 0.5112847730442527\n",
            "Best dc: 0.5517132742916838\n",
            "\n",
            "21\n",
            "Epoch 1/1\n",
            "419/419 [==============================] - 151s 361ms/step - loss: 0.0178 - dice_coef: 0.4946 - accuracy: 0.9932\n",
            "Volume 0: 0.0\n",
            "Volume 1: 0.7785522132550746\n",
            "Volume 2: 0.5847613113165091\n",
            "Volume 3: 0.8408480944712828\n",
            "Volume 4: 0.6854598110983365\n",
            "Volume 5: 0.189298198440441\n",
            "Volume 6: 0.4162323157110946\n",
            "Volume 7: 0.7821420905773772\n",
            "Average dc: 0.5346617543587645\n",
            "Best dc: 0.5517132742916838\n",
            "\n",
            "22\n",
            "Epoch 1/1\n",
            "419/419 [==============================] - 151s 361ms/step - loss: 0.0177 - dice_coef: 0.4989 - accuracy: 0.9934\n",
            "Volume 0: 0.0\n",
            "Volume 1: 0.7568129294433329\n",
            "Volume 2: 0.4138228602808504\n",
            "Volume 3: 0.8088672561161104\n",
            "Volume 4: 0.622684153562106\n",
            "Volume 5: 0.37128980032379927\n",
            "Volume 6: 0.3588866723662962\n",
            "Volume 7: 0.7403008288598771\n",
            "Average dc: 0.5090830626190466\n",
            "Best dc: 0.5517132742916838\n",
            "\n",
            "23\n",
            "Epoch 1/1\n",
            "419/419 [==============================] - 152s 362ms/step - loss: 0.0178 - dice_coef: 0.4939 - accuracy: 0.9931\n",
            "Volume 0: 0.007283517669274346\n",
            "Volume 1: 0.7792347659035671\n",
            "Volume 2: 0.5740600138645892\n",
            "Volume 3: 0.828151014714485\n",
            "Volume 4: 0.6823985597562664\n",
            "Volume 5: 0.4028347631480791\n",
            "Volume 6: 0.4556762262743354\n",
            "Volume 7: 0.766221972676672\n",
            "Average dc: 0.5619826042509085\n",
            "Best dc: 0.5619826042509085\n",
            "\n",
            "24\n",
            "Epoch 1/1\n",
            "419/419 [==============================] - 151s 361ms/step - loss: 0.0166 - dice_coef: 0.5175 - accuracy: 0.9936\n",
            "Volume 0: 0.0\n",
            "Volume 1: 0.7953087877830727\n",
            "Volume 2: 0.5197961853611512\n",
            "Volume 3: 0.7980229161986071\n",
            "Volume 4: 0.6859176019672221\n",
            "Volume 5: 0.3516483516483517\n",
            "Volume 6: 0.3857471693417942\n",
            "Volume 7: 0.7548007109582835\n",
            "Average dc: 0.5364052154073103\n",
            "Best dc: 0.5619826042509085\n",
            "\n",
            "25\n",
            "Epoch 1/1\n",
            "419/419 [==============================] - 151s 361ms/step - loss: 0.0167 - dice_coef: 0.5178 - accuracy: 0.9935\n",
            "Volume 0: 0.0\n",
            "Volume 1: 0.782782084890401\n",
            "Volume 2: 0.5750943396226416\n",
            "Volume 3: 0.8138951082162968\n",
            "Volume 4: 0.6554163577648493\n",
            "Volume 5: 0.09202312138728323\n",
            "Volume 6: 0.5148469373969901\n",
            "Volume 7: 0.7755574235753344\n",
            "Average dc: 0.5262019216067246\n",
            "Best dc: 0.5619826042509085\n",
            "\n",
            "26\n",
            "Epoch 1/1\n",
            "419/419 [==============================] - 152s 362ms/step - loss: 0.0169 - dice_coef: 0.4989 - accuracy: 0.9935\n",
            "Volume 0: 0.014513662463571574\n",
            "Volume 1: 0.6881342272044547\n",
            "Volume 2: 0.48202258833281525\n",
            "Volume 3: 0.8299446504780186\n",
            "Volume 4: 0.6356105380370275\n",
            "Volume 5: 0.19750061259495222\n",
            "Volume 6: 0.5258640222853106\n",
            "Volume 7: 0.7881586609428111\n",
            "Average dc: 0.5202186202923702\n",
            "Best dc: 0.5619826042509085\n",
            "\n",
            "27\n",
            "Epoch 1/1\n",
            "419/419 [==============================] - 152s 362ms/step - loss: 0.0166 - dice_coef: 0.5191 - accuracy: 0.9935\n",
            "Volume 0: 0.0\n",
            "Volume 1: 0.7378621833436311\n",
            "Volume 2: 0.5866228430566968\n",
            "Volume 3: 0.8328489956046351\n",
            "Volume 4: 0.682373379660564\n",
            "Volume 5: 0.41901776384535006\n",
            "Volume 6: 0.4828217524387104\n",
            "Volume 7: 0.7896160448854834\n",
            "Average dc: 0.5663953703543838\n",
            "Best dc: 0.5663953703543838\n",
            "\n",
            "28\n",
            "Epoch 1/1\n",
            "419/419 [==============================] - 151s 361ms/step - loss: 0.0172 - dice_coef: 0.5107 - accuracy: 0.9932\n",
            "Volume 0: 0.0\n",
            "Volume 1: 0.6016696481812761\n",
            "Volume 2: 0.5554092057954505\n",
            "Volume 3: 0.8318838659613328\n",
            "Volume 4: 0.6143917003438084\n",
            "Volume 5: 0.31175693527080584\n",
            "Volume 6: 0.49892335690371337\n",
            "Volume 7: 0.7745677427143178\n",
            "Average dc: 0.523575306896338\n",
            "Best dc: 0.5663953703543838\n",
            "\n",
            "29\n",
            "Epoch 1/1\n",
            "419/419 [==============================] - 151s 362ms/step - loss: 0.0160 - dice_coef: 0.5318 - accuracy: 0.9937\n",
            "Volume 0: 0.05542865844373382\n",
            "Volume 1: 0.7755513697106329\n",
            "Volume 2: 0.523826332509707\n",
            "Volume 3: 0.8303047194351543\n",
            "Volume 4: 0.5518576867533149\n",
            "Volume 5: 0.4310197086546701\n",
            "Volume 6: 0.5573671813661345\n",
            "Volume 7: 0.7783950840311612\n",
            "Average dc: 0.5629688426130636\n",
            "Best dc: 0.5663953703543838\n",
            "\n",
            "30\n",
            "Epoch 1/1\n",
            "419/419 [==============================] - 152s 362ms/step - loss: 0.0158 - dice_coef: 0.5217 - accuracy: 0.9938\n",
            "Volume 0: 0.005674884061508421\n",
            "Volume 1: 0.7513140604467805\n",
            "Volume 2: 0.5343461676392919\n",
            "Volume 3: 0.8000476158084484\n",
            "Volume 4: 0.692815605350556\n",
            "Volume 5: 0.1322196552336947\n",
            "Volume 6: 0.44038993932968135\n",
            "Volume 7: 0.7509148788927336\n",
            "Average dc: 0.5134653508453368\n",
            "Best dc: 0.5663953703543838\n",
            "\n",
            "31\n",
            "Epoch 1/1\n",
            "419/419 [==============================] - 152s 362ms/step - loss: 0.0160 - dice_coef: 0.5304 - accuracy: 0.9937\n",
            "Volume 0: 0.0\n",
            "Volume 1: 0.7261623828050259\n",
            "Volume 2: 0.5209552953698776\n",
            "Volume 3: 0.7976980187145807\n",
            "Volume 4: 0.5737849779086892\n",
            "Volume 5: 0.21663019693654267\n",
            "Volume 6: 0.3029319265496601\n",
            "Volume 7: 0.7090255854568789\n",
            "Average dc: 0.4808985479676569\n",
            "Best dc: 0.5663953703543838\n",
            "\n",
            "32\n",
            "Epoch 1/1\n",
            "419/419 [==============================] - 151s 362ms/step - loss: 0.0161 - dice_coef: 0.5155 - accuracy: 0.9938\n",
            "Volume 0: 0.006058041381767968\n",
            "Volume 1: 0.7424413539414669\n",
            "Volume 2: 0.693305713039686\n",
            "Volume 3: 0.825874905265035\n",
            "Volume 4: 0.668960444201884\n",
            "Volume 5: 0.1592741935483871\n",
            "Volume 6: 0.4769536760794653\n",
            "Volume 7: 0.7759419906859348\n",
            "Average dc: 0.5436012897679534\n",
            "Best dc: 0.5663953703543838\n",
            "\n",
            "33\n",
            "Epoch 1/1\n",
            "419/419 [==============================] - 151s 361ms/step - loss: 0.0153 - dice_coef: 0.5560 - accuracy: 0.9939\n",
            "Volume 0: 0.007440374301038457\n",
            "Volume 1: 0.7609470507045244\n",
            "Volume 2: 0.45089001311598276\n",
            "Volume 3: 0.816336825766395\n",
            "Volume 4: 0.523377838251552\n",
            "Volume 5: 0.42978003384094754\n",
            "Volume 6: 0.35233211877400955\n",
            "Volume 7: 0.7277009549249166\n",
            "Average dc: 0.5086006512099208\n",
            "Best dc: 0.5663953703543838\n",
            "\n",
            "34\n",
            "Epoch 1/1\n",
            "419/419 [==============================] - 152s 362ms/step - loss: 0.0152 - dice_coef: 0.5330 - accuracy: 0.9940\n",
            "Volume 0: 0.0\n",
            "Volume 1: 0.7590423438966071\n",
            "Volume 2: 0.6117795673456498\n",
            "Volume 3: 0.8168387108081109\n",
            "Volume 4: 0.4460109499903794\n",
            "Volume 5: 0.6681818181818182\n",
            "Volume 6: 0.45304448110246565\n",
            "Volume 7: 0.7527723493564912\n",
            "Average dc: 0.5634587775851904\n",
            "Best dc: 0.5663953703543838\n",
            "\n",
            "35\n",
            "Epoch 1/1\n",
            "419/419 [==============================] - 151s 361ms/step - loss: 0.0154 - dice_coef: 0.5317 - accuracy: 0.9940\n",
            "Volume 0: 0.0\n",
            "Volume 1: 0.7668511464098325\n",
            "Volume 2: 0.4789049579506668\n",
            "Volume 3: 0.8204622238167848\n",
            "Volume 4: 0.5456344879644385\n",
            "Volume 5: 0.34153005464480873\n",
            "Volume 6: 0.44611839773130096\n",
            "Volume 7: 0.7503464983286551\n",
            "Average dc: 0.5187309708558109\n",
            "Best dc: 0.5663953703543838\n",
            "\n",
            "36\n",
            "Epoch 1/1\n",
            "419/419 [==============================] - 152s 362ms/step - loss: 0.0148 - dice_coef: 0.5356 - accuracy: 0.9941\n",
            "Volume 0: 0.0\n",
            "Volume 1: 0.7671635990116876\n",
            "Volume 2: 0.6673891251930318\n",
            "Volume 3: 0.8245838001198447\n",
            "Volume 4: 0.7231903401649058\n",
            "Volume 5: 0.44098320759308834\n",
            "Volume 6: 0.48653870385148473\n",
            "Volume 7: 0.7665926487386705\n",
            "Average dc: 0.5845551780840892\n",
            "Best dc: 0.5845551780840892\n",
            "\n",
            "37\n",
            "Epoch 1/1\n",
            "419/419 [==============================] - 152s 362ms/step - loss: 0.0154 - dice_coef: 0.5401 - accuracy: 0.9939\n",
            "Volume 0: 0.0\n",
            "Volume 1: 0.6819565371274864\n",
            "Volume 2: 0.6334223239257564\n",
            "Volume 3: 0.8263768430182133\n",
            "Volume 4: 0.6589400082261002\n",
            "Volume 5: 0.19158460161145927\n",
            "Volume 6: 0.3923855633802817\n",
            "Volume 7: 0.7703102092108631\n",
            "Average dc: 0.5193720108125199\n",
            "Best dc: 0.5845551780840892\n",
            "\n",
            "38\n",
            "Epoch 1/1\n",
            "419/419 [==============================] - 152s 362ms/step - loss: 0.0152 - dice_coef: 0.5470 - accuracy: 0.9939\n",
            "Volume 0: 0.0\n",
            "Volume 1: 0.7641244166159377\n",
            "Volume 2: 0.5196823673136962\n",
            "Volume 3: 0.8496299069727254\n",
            "Volume 4: 0.6073803043148454\n",
            "Volume 5: 0.3655991363799928\n",
            "Volume 6: 0.3856666510120697\n",
            "Volume 7: 0.7592538997206258\n",
            "Average dc: 0.5314170852912367\n",
            "Best dc: 0.5845551780840892\n",
            "\n",
            "39\n",
            "Epoch 1/1\n",
            "419/419 [==============================] - 152s 362ms/step - loss: 0.0140 - dice_coef: 0.5534 - accuracy: 0.9944\n",
            "Volume 0: 0.0\n",
            "Volume 1: 0.7438289389668437\n",
            "Volume 2: 0.5621556646298708\n",
            "Volume 3: 0.8124151343396028\n",
            "Volume 4: 0.6206806396792889\n",
            "Volume 5: 0.688189619942787\n",
            "Volume 6: 0.425827824451972\n",
            "Volume 7: 0.7616233492130495\n",
            "Average dc: 0.5768401464029268\n",
            "Best dc: 0.5845551780840892\n",
            "\n",
            "40\n",
            "Epoch 1/1\n",
            "419/419 [==============================] - 152s 362ms/step - loss: 0.0143 - dice_coef: 0.5682 - accuracy: 0.9943\n",
            "Volume 0: 0.0\n",
            "Volume 1: 0.6437743155126121\n",
            "Volume 2: 0.6339983511953834\n",
            "Volume 3: 0.8258683854076707\n",
            "Volume 4: 0.6674692185785688\n",
            "Volume 5: 0.08774732702470198\n",
            "Volume 6: 0.2653353349858604\n",
            "Volume 7: 0.7342316583525976\n",
            "Average dc: 0.4823030738821743\n",
            "Best dc: 0.5845551780840892\n",
            "\n",
            "41\n",
            "Epoch 1/1\n",
            "419/419 [==============================] - 152s 362ms/step - loss: 0.0143 - dice_coef: 0.5557 - accuracy: 0.9942\n",
            "Volume 0: 0.0\n",
            "Volume 1: 0.7786572852535913\n",
            "Volume 2: 0.48934076746474253\n",
            "Volume 3: 0.8229599762928905\n",
            "Volume 4: 0.41747699172631775\n",
            "Volume 5: 0.4644396551724138\n",
            "Volume 6: 0.29053156146179404\n",
            "Volume 7: 0.7232641900356558\n",
            "Average dc: 0.4983338034259257\n",
            "Best dc: 0.5845551780840892\n",
            "\n",
            "42\n",
            "Epoch 1/1\n",
            "419/419 [==============================] - 152s 362ms/step - loss: 0.0142 - dice_coef: 0.5560 - accuracy: 0.9943\n",
            "Volume 0: 0.0\n",
            "Volume 1: 0.6892089263272307\n",
            "Volume 2: 0.7333583619718717\n",
            "Volume 3: 0.8315480609467246\n",
            "Volume 4: 0.6746462330107947\n",
            "Volume 5: 0.1367837338262477\n",
            "Volume 6: 0.5666564745451765\n",
            "Volume 7: 0.8014192205847541\n",
            "Average dc: 0.5542026264016\n",
            "Best dc: 0.5845551780840892\n",
            "\n",
            "43\n",
            "Epoch 1/1\n",
            "419/419 [==============================] - 152s 363ms/step - loss: 0.0144 - dice_coef: 0.5669 - accuracy: 0.9942\n",
            "Volume 0: 0.01911431151042699\n",
            "Volume 1: 0.7424334324012859\n",
            "Volume 2: 0.551099525432792\n",
            "Volume 3: 0.8233185417210476\n",
            "Volume 4: 0.6603260869565217\n",
            "Volume 5: 0.20207972270363952\n",
            "Volume 6: 0.5680959623215425\n",
            "Volume 7: 0.7888388354026606\n",
            "Average dc: 0.5444133023062395\n",
            "Best dc: 0.5845551780840892\n",
            "\n",
            "44\n",
            "Epoch 1/1\n",
            "419/419 [==============================] - 153s 364ms/step - loss: 0.0138 - dice_coef: 0.5539 - accuracy: 0.9945\n",
            "Volume 0: 0.0\n",
            "Volume 1: 0.7813530011676545\n",
            "Volume 2: 0.5922247273170435\n",
            "Volume 3: 0.810155143161982\n",
            "Volume 4: 0.6695117292975593\n",
            "Volume 5: 0.3302598491198659\n",
            "Volume 6: 0.42640623817094403\n",
            "Volume 7: 0.7612432059306352\n",
            "Average dc: 0.5463942367707105\n",
            "Best dc: 0.5845551780840892\n",
            "\n",
            "45\n",
            "Epoch 1/1\n",
            "419/419 [==============================] - 153s 364ms/step - loss: 0.0136 - dice_coef: 0.5537 - accuracy: 0.9945\n",
            "Volume 0: 0.0008346084295451384\n",
            "Volume 1: 0.7173205387309277\n",
            "Volume 2: 0.5418949076891865\n",
            "Volume 3: 0.8160692428746285\n",
            "Volume 4: 0.6606188278557773\n",
            "Volume 5: 0.384939589772408\n",
            "Volume 6: 0.4549785058673173\n",
            "Volume 7: 0.7685955912934979\n",
            "Average dc: 0.543156476564161\n",
            "Best dc: 0.5845551780840892\n",
            "\n",
            "46\n",
            "Epoch 1/1\n",
            "419/419 [==============================] - 153s 364ms/step - loss: 0.0139 - dice_coef: 0.5538 - accuracy: 0.9944\n",
            "Volume 0: 0.06463118540641585\n",
            "Volume 1: 0.7763317767270279\n",
            "Volume 2: 0.5242255302028852\n",
            "Volume 3: 0.7827003702160001\n",
            "Volume 4: 0.5944168325156182\n",
            "Volume 5: 0.2686096888538795\n",
            "Volume 6: 0.559253318514215\n",
            "Volume 7: 0.7933095131988043\n",
            "Average dc: 0.5454347769543557\n",
            "Best dc: 0.5845551780840892\n",
            "\n",
            "47\n",
            "Epoch 1/1\n",
            "419/419 [==============================] - 153s 364ms/step - loss: 0.0138 - dice_coef: 0.5619 - accuracy: 0.9944\n",
            "Volume 0: 0.0\n",
            "Volume 1: 0.7550064789727883\n",
            "Volume 2: 0.5865706033167819\n",
            "Volume 3: 0.817609069530729\n",
            "Volume 4: 0.5803917781318911\n",
            "Volume 5: 0.6941266209000763\n",
            "Volume 6: 0.42875450779363994\n",
            "Volume 7: 0.7620175720411784\n",
            "Average dc: 0.5780595788358857\n",
            "Best dc: 0.5845551780840892\n",
            "\n",
            "48\n",
            "Epoch 1/1\n",
            "190/419 [============>.................] - ETA: 1:23 - loss: 0.0130 - dice_coef: 0.5815 - accuracy: 0.9947"
          ],
          "name": "stdout"
        }
      ]
    },
    {
      "cell_type": "code",
      "metadata": {
        "id": "bM4Y-Egpe9rX",
        "colab_type": "code",
        "colab": {}
      },
      "source": [
        "#model.load_weights('unet_best2')"
      ],
      "execution_count": null,
      "outputs": []
    },
    {
      "cell_type": "code",
      "metadata": {
        "id": "XE3VxQtzfD2z",
        "colab_type": "code",
        "colab": {}
      },
      "source": [
        "model.save('unet_bestreena')"
      ],
      "execution_count": null,
      "outputs": []
    },
    {
      "cell_type": "code",
      "metadata": {
        "id": "oaJXbdRL_WBL",
        "colab_type": "code",
        "colab": {
          "base_uri": "https://localhost:8080/",
          "height": 34
        },
        "outputId": "0ff78089-a139-47a4-a6f3-8f6583b711a8"
      },
      "source": [
        "test1_pred = model.predict(res1, batch_size=4)\n",
        "test1_result = np.zeros(test1_pred.shape)\n",
        "print(test1_result.shape)\n",
        "test1_result[test1_pred>0.5] = 1"
      ],
      "execution_count": null,
      "outputs": [
        {
          "output_type": "stream",
          "text": [
            "(620, 256, 512, 1)\n"
          ],
          "name": "stdout"
        }
      ]
    },
    {
      "cell_type": "code",
      "metadata": {
        "id": "tcZ0ElcA_WBS",
        "colab_type": "code",
        "colab": {}
      },
      "source": [
        "from medpy.metric.binary import hd\n",
        "#from sklearn.metrics import roc_curve\n",
        "import matplotlib.pyplot as plt"
      ],
      "execution_count": null,
      "outputs": []
    },
    {
      "cell_type": "code",
      "metadata": {
        "id": "yBMCXzDS_WBa",
        "colab_type": "code",
        "colab": {}
      },
      "source": [
        "x,y = 492,620\n",
        "a = test1_result[x:y]\n",
        "b = test1_y1[x:y]\n",
        "c = test1_y2[x:y]\n",
        "d = test1_y3[x:y]\n",
        "\n",
        "\n",
        "TP1 = np.sum(np.logical_and(a == 1, b == 1))\n",
        "TP2 = np.sum(np.logical_and(a == 1, c == 1))\n",
        "TP3 = np.sum(np.logical_and(a == 1, d == 1))\n",
        "\n",
        " \n",
        "# True Negative (TN): we predict a label of 0 (negative), and the true label is 0.\n",
        "TN1 = np.sum(np.logical_and(a == 0, b == 0))\n",
        "TN2 = np.sum(np.logical_and(a == 0, c == 0))\n",
        "TN3 = np.sum(np.logical_and(a == 0, d == 0))\n",
        "\n",
        "# False Positive (FP): we predict a label of 1 (positive), but the true label is 0.\n",
        "FP1 = np.sum(np.logical_and(a == 1, b == 0))\n",
        "FP2 = np.sum(np.logical_and(a == 1, c == 0))\n",
        "FP3 = np.sum(np.logical_and(a == 1, d == 0))\n",
        " \n",
        "# False Negative (FN): we predict a label of 0 (negative), but the true label is 1.\n",
        "FN1 = np.sum(np.logical_and(a == 0, b == 1))\n",
        "FN2 = np.sum(np.logical_and(a == 0, c == 1))\n",
        "FN3 = np.sum(np.logical_and(a == 0, d == 1))\n",
        "\n",
        "\n"
      ],
      "execution_count": null,
      "outputs": []
    },
    {
      "cell_type": "code",
      "metadata": {
        "id": "5ZoYKQUI_WBh",
        "colab_type": "code",
        "colab": {}
      },
      "source": [
        "def test1results(model):\n",
        "    \n",
        "    frames = [(0,128),(128,256),(256,261),(261,266),(266,315),(315,364),(364,492),(492,620)]\n",
        "    test1resarray = []\n",
        "    \n",
        "    print (\"\\nTEST 1 RESULTS: \")\n",
        "    for item in frames:\n",
        "        x = item[0]\n",
        "        y = item[1]\n",
        "        \n",
        "        test1_pred = model.predict(res1[x:y], batch_size=4)\n",
        "        test1_result = np.zeros(test1_pred.shape)\n",
        "        #print test1_result.shape\n",
        "        test1_result[test1_pred>0.5] = 1\n",
        "        test1resarray.append(test1_result)\n",
        "        \n",
        "        a = test1_result\n",
        "        b = test1_y1[x:y]\n",
        "        c = test1_y2[x:y]\n",
        "        d = test1_y3[x:y]\n",
        "        \n",
        "        print (\"\")\n",
        "        print (dc(a, b))\n",
        "        print (dc(a, c))\n",
        "        print (dc(a, d))\n",
        "\n",
        "        print (recall(a, b))\n",
        "        print (recall(a, c))\n",
        "        print (recall(a, d))\n",
        "\n",
        "        print (precision(a, b))\n",
        "        print (precision(a, c))\n",
        "        print (precision(a, d))\n",
        "        \n",
        "        \"\"\"\n",
        "        for i in range(test1_pred.shape[0]):\n",
        "            imsave('test1_results/'+str(i+x)+'.jpg',test1_X[i+x,:,:,0])\n",
        "            imsave('test1_results/'+str(i+x)+'g.jpg',test1_y3[i+x,:,:,0])\n",
        "            imsave('test1_results/'+str(i+x)+'p.jpg',test1_result[i,:,:,0]*255)\n",
        "        \n",
        "    test1resarray = np.array(test1resarray)\n",
        "    np.save('test1results')\n",
        "    \"\"\""
      ],
      "execution_count": null,
      "outputs": []
    },
    {
      "cell_type": "code",
      "metadata": {
        "id": "gzwWMLg8_WBo",
        "colab_type": "code",
        "colab": {
          "base_uri": "https://localhost:8080/",
          "height": 1000
        },
        "outputId": "c7f469cb-5071-43f2-b8d6-b66943e6572d"
      },
      "source": [
        "test1results(model)\n",
        "#test1results(0:128)\n",
        "#test1results(128:256)"
      ],
      "execution_count": null,
      "outputs": [
        {
          "output_type": "stream",
          "text": [
            "\n",
            "TEST 1 RESULTS: \n",
            "\n",
            "0.0\n",
            "0.0\n",
            "0.0\n",
            "0.0\n",
            "0.0\n",
            "0.0\n",
            "0.0\n",
            "0.0\n",
            "0.0\n",
            "\n",
            "0.3801103302350185\n",
            "0.36793136107861163\n",
            "0.42429167581814187\n",
            "0.23755549258524605\n",
            "0.22897163858262257\n",
            "0.2763978710009729\n",
            "0.9504913076341648\n",
            "0.9359410430839002\n",
            "0.9126039304610734\n",
            "\n",
            "0.6145511874412988\n",
            "0.6414105000983156\n",
            "0.6119951040391677\n",
            "0.8721793773207654\n",
            "0.8733601070950469\n",
            "0.915467533137346\n",
            "0.47441607540525144\n",
            "0.5068102957170232\n",
            "0.4596302242477601\n",
            "\n",
            "0.7432090885882052\n",
            "0.7358881476076305\n",
            "0.6838413309330188\n",
            "0.9357000514271021\n",
            "0.956684510096219\n",
            "0.9811380504700643\n",
            "0.6164034047598882\n",
            "0.5978974337257559\n",
            "0.5248157872448548\n",
            "\n",
            "0.7446481452178041\n",
            "0.7543950014556693\n",
            "0.7652251085366146\n",
            "0.7127155498820831\n",
            "0.7159465261099658\n",
            "0.7757191139640626\n",
            "0.7795763814933144\n",
            "0.7972074310732458\n",
            "0.7550112412732221\n",
            "\n",
            "0.12280822388778107\n",
            "0.11973484325369424\n",
            "0.1172592748439582\n",
            "0.5395770392749245\n",
            "0.5439146800501882\n",
            "0.6097738876732313\n",
            "0.06928926132836748\n",
            "0.06727188081936686\n",
            "0.0648665425201738\n",
            "\n",
            "0.40304629209777815\n",
            "0.43490444689452407\n",
            "0.47956724185154753\n",
            "0.26671485856133553\n",
            "0.2988603718786501\n",
            "0.3551377226076021\n",
            "0.8244792984231385\n",
            "0.7982966523315626\n",
            "0.7382157011552407\n",
            "\n",
            "0.6310784958369525\n",
            "0.6585792107955645\n",
            "0.6832211650034811\n",
            "0.5052075661343569\n",
            "0.5342662425354552\n",
            "0.5985946039732801\n",
            "0.8404820423372711\n",
            "0.8582847422933049\n",
            "0.7957158198972201\n"
          ],
          "name": "stdout"
        },
        {
          "output_type": "error",
          "ename": "TypeError",
          "evalue": "ignored",
          "traceback": [
            "\u001b[0;31m---------------------------------------------------------------------------\u001b[0m",
            "\u001b[0;31mTypeError\u001b[0m                                 Traceback (most recent call last)",
            "\u001b[0;32m<ipython-input-37-10022f40e648>\u001b[0m in \u001b[0;36m<module>\u001b[0;34m()\u001b[0m\n\u001b[0;32m----> 1\u001b[0;31m \u001b[0mtest1results\u001b[0m\u001b[0;34m(\u001b[0m\u001b[0mmodel\u001b[0m\u001b[0;34m)\u001b[0m\u001b[0;34m\u001b[0m\u001b[0;34m\u001b[0m\u001b[0m\n\u001b[0m\u001b[1;32m      2\u001b[0m \u001b[0;31m#test1results(0:128)\u001b[0m\u001b[0;34m\u001b[0m\u001b[0;34m\u001b[0m\u001b[0;34m\u001b[0m\u001b[0m\n\u001b[1;32m      3\u001b[0m \u001b[0;31m#test1results(128:256)\u001b[0m\u001b[0;34m\u001b[0m\u001b[0;34m\u001b[0m\u001b[0;34m\u001b[0m\u001b[0m\n",
            "\u001b[0;32m<ipython-input-36-6b459decdde9>\u001b[0m in \u001b[0;36mtest1results\u001b[0;34m(model)\u001b[0m\n\u001b[1;32m     40\u001b[0m         \"\"\"\n\u001b[1;32m     41\u001b[0m     \u001b[0mtest1resarray\u001b[0m \u001b[0;34m=\u001b[0m \u001b[0mnp\u001b[0m\u001b[0;34m.\u001b[0m\u001b[0marray\u001b[0m\u001b[0;34m(\u001b[0m\u001b[0mtest1resarray\u001b[0m\u001b[0;34m)\u001b[0m\u001b[0;34m\u001b[0m\u001b[0;34m\u001b[0m\u001b[0m\n\u001b[0;32m---> 42\u001b[0;31m     \u001b[0mnp\u001b[0m\u001b[0;34m.\u001b[0m\u001b[0msave\u001b[0m\u001b[0;34m(\u001b[0m\u001b[0;34m'test1results'\u001b[0m\u001b[0;34m)\u001b[0m\u001b[0;34m\u001b[0m\u001b[0;34m\u001b[0m\u001b[0m\n\u001b[0m\u001b[1;32m     43\u001b[0m \u001b[0;34m\u001b[0m\u001b[0m\n",
            "\u001b[0;32m<__array_function__ internals>\u001b[0m in \u001b[0;36msave\u001b[0;34m(*args, **kwargs)\u001b[0m\n",
            "\u001b[0;31mTypeError\u001b[0m: _save_dispatcher() missing 1 required positional argument: 'arr'"
          ]
        }
      ]
    },
    {
      "cell_type": "code",
      "metadata": {
        "id": "b-9zggyj_WCM",
        "colab_type": "code",
        "colab": {
          "base_uri": "https://localhost:8080/",
          "height": 219
        },
        "outputId": "38419999-e978-4a30-8f76-85562750605d"
      },
      "source": [
        "from skimage import data, exposure, img_as_float\n",
        "from pylab import *\n",
        "for i in range(5):\n",
        "    cimg = exposure.equalize_adapthist(test1_X[340,:,:,0].astype(np.uint8), kernel_size = (32,64))\n",
        "    imshow(cimg)\n",
        "    #imshow(test1_X[i,:,:,0])\n",
        "    #imshow(test1_y3[340,:,:,0])\n",
        "    #imshow(test1_result[340,:,:,0]*255)\n",
        "\n",
        "    #imsave('test1_batch/'+str(i)+'c.jpg',cimg)\n",
        "    #imsave('test1_results/'+str(i)+'.jpg',test1_X[i,:,:,0])\n",
        "    #imsave('test1_results/'+str(i)+'g.jpg',test1_y3[i,:,:,0])\n",
        "    #imsave('test1_results/'+str(i)+'p.jpg',test1_result[i,:,:,0]*255)"
      ],
      "execution_count": null,
      "outputs": [
        {
          "output_type": "display_data",
          "data": {
            "image/png": "[encoded data removed]",
            "text/plain": [
              "<Figure size 432x288 with 1 Axes>"
            ]
          },
          "metadata": {
            "tags": [],
            "needs_background": "light"
          }
        }
      ]
    },
    {
      "cell_type": "code",
      "metadata": {
        "id": "sj5Dl5S8OAMW",
        "colab_type": "code",
        "colab": {
          "base_uri": "https://localhost:8080/",
          "height": 236
        },
        "outputId": "3f1baf2e-01e2-468a-cbe1-362f3fe7f7c5"
      },
      "source": [
        "cimg = exposure.equalize_adapthist(test1_X[340,:,:,0].astype(np.uint8), kernel_size = (32,64))\n",
        "imshow(cimg)"
      ],
      "execution_count": null,
      "outputs": [
        {
          "output_type": "execute_result",
          "data": {
            "text/plain": [
              "<matplotlib.image.AxesImage at 0x7fdeb1f54470>"
            ]
          },
          "metadata": {
            "tags": []
          },
          "execution_count": 61
        },
        {
          "output_type": "display_data",
          "data": {
            "image/png": "[encoded data removed]",
            "text/plain": [
              "<Figure size 432x288 with 1 Axes>"
            ]
          },
          "metadata": {
            "tags": [],
            "needs_background": "light"
          }
        }
      ]
    },
    {
      "cell_type": "code",
      "metadata": {
        "id": "2kZgcPD4OEbe",
        "colab_type": "code",
        "colab": {
          "base_uri": "https://localhost:8080/",
          "height": 236
        },
        "outputId": "6cbd3c5c-023a-4bb7-cd10-ed4cf25e5210"
      },
      "source": [
        "imshow(test1_X[340,:,:,0])\n",
        "    "
      ],
      "execution_count": null,
      "outputs": [
        {
          "output_type": "execute_result",
          "data": {
            "text/plain": [
              "<matplotlib.image.AxesImage at 0x7fdeb1f9b2e8>"
            ]
          },
          "metadata": {
            "tags": []
          },
          "execution_count": 62
        },
        {
          "output_type": "display_data",
          "data": {
            "image/png": "[encoded data removed]",
            "text/plain": [
              "<Figure size 432x288 with 1 Axes>"
            ]
          },
          "metadata": {
            "tags": [],
            "needs_background": "light"
          }
        }
      ]
    },
    {
      "cell_type": "code",
      "metadata": {
        "id": "YQwoMXP7OJs_",
        "colab_type": "code",
        "colab": {
          "base_uri": "https://localhost:8080/",
          "height": 236
        },
        "outputId": "325bce54-198f-4cc2-fa87-443e254dec4e"
      },
      "source": [
        "imshow(test1_y3[340,:,:,0])    "
      ],
      "execution_count": null,
      "outputs": [
        {
          "output_type": "execute_result",
          "data": {
            "text/plain": [
              "<matplotlib.image.AxesImage at 0x7fdeb1cab438>"
            ]
          },
          "metadata": {
            "tags": []
          },
          "execution_count": 63
        },
        {
          "output_type": "display_data",
          "data": {
            "image/png": "[encoded data removed]",
            "text/plain": [
              "<Figure size 432x288 with 1 Axes>"
            ]
          },
          "metadata": {
            "tags": [],
            "needs_background": "light"
          }
        }
      ]
    },
    {
      "cell_type": "code",
      "metadata": {
        "id": "GflRdjc0OLzU",
        "colab_type": "code",
        "colab": {
          "base_uri": "https://localhost:8080/",
          "height": 236
        },
        "outputId": "e09db159-41e7-49f1-cae3-21ce9ef2b3cf"
      },
      "source": [
        "imshow(test1_result[340,:,:,0]*255)"
      ],
      "execution_count": null,
      "outputs": [
        {
          "output_type": "execute_result",
          "data": {
            "text/plain": [
              "<matplotlib.image.AxesImage at 0x7fdeb1c85438>"
            ]
          },
          "metadata": {
            "tags": []
          },
          "execution_count": 64
        },
        {
          "output_type": "display_data",
          "data": {
            "image/png": "[encoded data removed]",
            "text/plain": [
              "<Figure size 432x288 with 1 Axes>"
            ]
          },
          "metadata": {
            "tags": [],
            "needs_background": "light"
          }
        }
      ]
    },
    {
      "cell_type": "code",
      "metadata": {
        "id": "ia2bSZp_QQnk",
        "colab_type": "code",
        "colab": {
          "base_uri": "https://localhost:8080/",
          "height": 263
        },
        "outputId": "3d756eaa-3aee-455a-ee57-2e138ee85a88"
      },
      "source": [
        "f, axarr = plt.subplots(2,2)\n",
        "axarr[0,1].imshow(exposure.equalize_adapthist(test1_X[340,:,:,0].astype(np.uint8), kernel_size = (32,64)))\n",
        "axarr[1,1].imshow(test1_result[340,:,:,0]*255)\n",
        "axarr[1,0].imshow(test1_y3[340,:,:,0])\n",
        "axarr[0,0].imshow(test1_X[340,:,:,0])"
      ],
      "execution_count": null,
      "outputs": [
        {
          "output_type": "execute_result",
          "data": {
            "text/plain": [
              "<matplotlib.image.AxesImage at 0x7fdeb1a356a0>"
            ]
          },
          "metadata": {
            "tags": []
          },
          "execution_count": 66
        },
        {
          "output_type": "display_data",
          "data": {
            "image/png": "[encoded data removed]",
            "text/plain": [
              "<Figure size 432x288 with 4 Axes>"
            ]
          },
          "metadata": {
            "tags": [],
            "needs_background": "light"
          }
        }
      ]
    },
    {
      "cell_type": "code",
      "metadata": {
        "id": "jP4WUPiU_WER",
        "colab_type": "code",
        "colab": {
          "base_uri": "https://localhost:8080/",
          "height": 52
        },
        "outputId": "884b47ed-39f3-4a82-c6d5-e83b3f4756c2"
      },
      "source": [
        "test2_X = np.load('unet/optima data/test2_cutimages_conall.npy')\n",
        "test2_y1 = np.load('unet/optima data/test2_cutgrader1.npy')\n",
        "test2_y2 = np.load('unet/optima data/test2_cutgrader2.npy')\n",
        "test2_y3 = np.load('unet/optima data/test2_cutgrader3.npy')\n",
        "\n",
        "print (test2_y1.shape)\n",
        "print (np.max(test2_X))"
      ],
      "execution_count": null,
      "outputs": [
        {
          "output_type": "stream",
          "text": [
            "(289, 256, 512)\n",
            "255\n"
          ],
          "name": "stdout"
        }
      ]
    },
    {
      "cell_type": "code",
      "metadata": {
        "id": "8tOGjqYc_WEW",
        "colab_type": "code",
        "colab": {
          "base_uri": "https://localhost:8080/",
          "height": 86
        },
        "outputId": "d0a390fd-2be9-47c4-995c-5803710b2356"
      },
      "source": [
        "test2_X = np.reshape(test2_X, (-1,256,512,1))\n",
        "test2_y1 = np.reshape(test2_y1*1, (-1,256,512,1))\n",
        "test2_y2 = np.reshape(test2_y2*1, (-1,256,512,1))\n",
        "test2_y3 = np.reshape(test2_y3*1, (-1,256,512,1))\n",
        "\n",
        "test2_X = test2_X.astype('float32')\n",
        "test2_y1 = test2_y1.astype('float32')\n",
        "test2_y2 = test2_y2.astype('float32')\n",
        "test2_y3 = test2_y3.astype('float32')\n",
        "\n",
        "\n",
        "print (test2_X.shape)\n",
        "print (test2_y1.shape)\n",
        "print (test2_y2.shape)\n",
        "print (test2_y3.shape)"
      ],
      "execution_count": null,
      "outputs": [
        {
          "output_type": "stream",
          "text": [
            "(289, 256, 512, 1)\n",
            "(289, 256, 512, 1)\n",
            "(289, 256, 512, 1)\n",
            "(289, 256, 512, 1)\n"
          ],
          "name": "stdout"
        }
      ]
    },
    {
      "cell_type": "code",
      "metadata": {
        "id": "eM4LJuEr_WEd",
        "colab_type": "code",
        "colab": {
          "base_uri": "https://localhost:8080/",
          "height": 34
        },
        "outputId": "621f7fb3-b853-412f-acc1-2a6004f7bc6d"
      },
      "source": [
        "mean = np.mean(train_X)\n",
        "std = np.std(train_X)\n",
        "print (mean, std)"
      ],
      "execution_count": null,
      "outputs": [
        {
          "output_type": "stream",
          "text": [
            "67.86644 56.091488\n"
          ],
          "name": "stdout"
        }
      ]
    },
    {
      "cell_type": "code",
      "metadata": {
        "id": "M5FVAHcC_WEi",
        "colab_type": "code",
        "colab": {
          "base_uri": "https://localhost:8080/",
          "height": 34
        },
        "outputId": "577af643-4ced-497a-8c46-ac5161726784"
      },
      "source": [
        "res2 = test2_X - mean\n",
        "res2 = res2 / std\n",
        "print (res2.shape)"
      ],
      "execution_count": null,
      "outputs": [
        {
          "output_type": "stream",
          "text": [
            "(289, 256, 512, 1)\n"
          ],
          "name": "stdout"
        }
      ]
    },
    {
      "cell_type": "code",
      "metadata": {
        "id": "sSqWiDn3_WEn",
        "colab_type": "code",
        "colab": {}
      },
      "source": [
        "test2_pred = model.predict(res2, batch_size=4)\n",
        "test2_result = np.zeros(test2_pred.shape)\n",
        "#print test2_result.shape\n",
        "test2_result[test2_pred>0.5] = 1"
      ],
      "execution_count": null,
      "outputs": []
    },
    {
      "cell_type": "code",
      "metadata": {
        "id": "Wbz10run_WE7",
        "colab_type": "code",
        "colab": {
          "base_uri": "https://localhost:8080/",
          "height": 173
        },
        "outputId": "a8b80895-5ab6-441a-ba2c-fcaba6856efa"
      },
      "source": [
        "x,y = 282,289\n",
        "a = test2_result[x:y]\n",
        "b = test2_y1[x:y]\n",
        "c = test2_y2[x:y]\n",
        "d = test2_y3[x:y]\n",
        "\n",
        "print (dc(a, b))\n",
        "print (dc(a, c))\n",
        "print (dc(a, d))\n",
        "\n",
        "print (recall(a, b))\n",
        "print (recall(a, c))\n",
        "print (recall(a, d))\n",
        "\n",
        "print (precision(a, b))\n",
        "print (precision(a, c))\n",
        "print (precision(a, d))"
      ],
      "execution_count": null,
      "outputs": [
        {
          "output_type": "stream",
          "text": [
            "0.361394814770049\n",
            "0.3612670384701558\n",
            "0.34155043987370876\n",
            "0.9783071033602723\n",
            "0.9866375603625058\n",
            "0.9875212705615428\n",
            "0.22163416279362821\n",
            "0.2211152868272217\n",
            "0.20648298457455877\n"
          ],
          "name": "stdout"
        }
      ]
    },
    {
      "cell_type": "code",
      "metadata": {
        "id": "oz9uYKOC_WFD",
        "colab_type": "code",
        "colab": {}
      },
      "source": [
        "def test2results(model):\n",
        "    \n",
        "    frames = [(0,128),(128,256),(256,261),(261,268),(268,275),(275,282),(282,289)]\n",
        "    test2resarray = []\n",
        "    \n",
        "    print (\"\\nTEST 2 RESULTS: \")\n",
        "    for item in frames:\n",
        "        x = item[0]\n",
        "        y = item[1]\n",
        "        \n",
        "        test2_pred = model.predict(res2[x:y], batch_size=4)\n",
        "        test2_result = np.zeros(test2_pred.shape)\n",
        "        #print test1_result.shape\n",
        "        test2_result[test2_pred>0.5] = 1\n",
        "        test2resarray.append(test2_result)\n",
        "        \n",
        "        a = test2_result\n",
        "        b = test2_y1[x:y]\n",
        "        c = test2_y2[x:y]\n",
        "        d = test2_y3[x:y]\n",
        "        \n",
        "        print (\"\")\n",
        "        print (dc(a, b))\n",
        "        print (dc(a, c))\n",
        "        print (dc(a, d))\n",
        "\n",
        "        print (recall(a, b))\n",
        "        print (recall(a, c))\n",
        "        print (recall(a, d))\n",
        "\n",
        "        print (precision(a, b))\n",
        "        print (precision(a, c))\n",
        "        print (precision(a, d))\n",
        "        \n",
        "        for i in xrange(test2_pred.shape[0]):\n",
        "            imsave('test2_results/'+str(i+x)+'.jpg',test2_X[i+x,:,:,0])\n",
        "            imsave('test2_results/'+str(i+x)+'g.jpg',test2_y3[i+x,:,:,0])\n",
        "            imsave('test2_results/'+str(i+x)+'p.jpg',test2_result[i,:,:,0]*255)\n",
        "    \n",
        "    test2resarray = np.array(test2resarray)\n",
        "    np.save('test2results')"
      ],
      "execution_count": null,
      "outputs": []
    },
    {
      "cell_type": "code",
      "metadata": {
        "id": "NJ78TIax_WFY",
        "colab_type": "code",
        "colab": {}
      },
      "source": [
        "\"\"\"for i in range(289):\n",
        "    imsave('test2_results/'+str(i)+'.jpg',test2_X[i,:,:,0])\n",
        "    imsave('test2_results/'+str(i)+'g.jpg',test2_y3[i,:,:,0])\n",
        "    imsave('test2_results/'+str(i)+'p.jpg',test2_result[i,:,:,0]*255)\"\"\""
      ],
      "execution_count": null,
      "outputs": []
    },
    {
      "cell_type": "code",
      "metadata": {
        "id": "rZs1Stkc_WFd",
        "colab_type": "code",
        "colab": {}
      },
      "source": [
        "\"\"\"i = 288\n",
        "val_img.append(test2_X[i,:,:,0])\n",
        "val_gt.append(test2_y3[i,:,:,0])\n",
        "print (len(val_img))\"\"\""
      ],
      "execution_count": null,
      "outputs": []
    },
    {
      "cell_type": "code",
      "metadata": {
        "id": "qa6IGkF2_WFj",
        "colab_type": "code",
        "colab": {}
      },
      "source": [
        "\"\"\"val_img = np.array(val_img)\n",
        "val_gt = np.array(val_gt)\n",
        "print val_img.shape\n",
        "print val_gt.shape\"\"\""
      ],
      "execution_count": null,
      "outputs": []
    },
    {
      "cell_type": "code",
      "metadata": {
        "id": "NP90xh0c_WFu",
        "colab_type": "code",
        "colab": {}
      },
      "source": [
        "\"\"\"np.save('val_imgs',val_img)\n",
        "np.save('val_gt',val_gt)\"\"\""
      ],
      "execution_count": null,
      "outputs": []
    },
    {
      "cell_type": "code",
      "metadata": {
        "id": "hA-Utna-_WF8",
        "colab_type": "code",
        "colab": {}
      },
      "source": [
        "test3_X = np.load('duke_cutimg.npy')\n",
        "test3_y1 = np.load('duke_cutg1.npy')\n",
        "test3_y2 = np.load('duke_cutg2.npy')\n",
        "test3_y3 = np.load('duke_cutg3.npy')\n",
        "\n",
        "print test3_y1.shape\n",
        "print np.max(test3_X)"
      ],
      "execution_count": null,
      "outputs": []
    },
    {
      "cell_type": "code",
      "metadata": {
        "id": "nbgC-3sc_WGB",
        "colab_type": "code",
        "colab": {}
      },
      "source": [
        "test3_X = np.reshape(test3_X, (-1,256,512,1))\n",
        "test3_y1 = np.reshape(test3_y1*1, (-1,256,512,1))\n",
        "test3_y2 = np.reshape(test3_y2*1, (-1,256,512,1))\n",
        "test3_y3 = np.reshape(test3_y3*1, (-1,256,512,1))\n",
        "\n",
        "test3_X = test3_X.astype('float32')\n",
        "test3_y1 = test3_y1.astype('float32')\n",
        "test3_y2 = test3_y2.astype('float32')\n",
        "test3_y3 = test3_y3.astype('float32')\n",
        "\n",
        "\n",
        "print test3_X.shape\n",
        "print test3_y1.shape\n",
        "print test3_y2.shape\n",
        "print test3_y3.shape"
      ],
      "execution_count": null,
      "outputs": []
    },
    {
      "cell_type": "code",
      "metadata": {
        "id": "IjXqXApu_WGL",
        "colab_type": "code",
        "colab": {}
      },
      "source": [
        "print mean, std"
      ],
      "execution_count": null,
      "outputs": []
    },
    {
      "cell_type": "code",
      "metadata": {
        "id": "MIZ2R2xS_WGP",
        "colab_type": "code",
        "colab": {}
      },
      "source": [
        "res3 = test3_X - mean\n",
        "res3 = res3 / std\n",
        "print res3.shape"
      ],
      "execution_count": null,
      "outputs": []
    },
    {
      "cell_type": "code",
      "metadata": {
        "id": "-t5ko2ih_WGU",
        "colab_type": "code",
        "colab": {}
      },
      "source": [
        "test3_pred = model.predict(res3, batch_size=4)"
      ],
      "execution_count": null,
      "outputs": []
    },
    {
      "cell_type": "code",
      "metadata": {
        "id": "biF49Uvf_WGZ",
        "colab_type": "code",
        "colab": {}
      },
      "source": [
        "test3_result = np.zeros(test3_pred.shape)\n",
        "print test3_result.shape"
      ],
      "execution_count": null,
      "outputs": []
    },
    {
      "cell_type": "code",
      "metadata": {
        "id": "zI8-c9c7_WGd",
        "colab_type": "code",
        "colab": {}
      },
      "source": [
        "test3_result[test3_pred>0.5] = 1"
      ],
      "execution_count": null,
      "outputs": []
    },
    {
      "cell_type": "code",
      "metadata": {
        "id": "iDbBOQJy_WGh",
        "colab_type": "code",
        "colab": {}
      },
      "source": [
        "x,y = 128,256\n",
        "a = test3_result[x:y]\n",
        "b = test3_y1[x:y]\n",
        "c = test3_y2[x:y]\n",
        "d = test3_y3[x:y]"
      ],
      "execution_count": null,
      "outputs": []
    },
    {
      "cell_type": "code",
      "metadata": {
        "id": "j66R3-5__WGm",
        "colab_type": "code",
        "colab": {}
      },
      "source": [
        "print (dc(a, b))\n",
        "print (dc(a, c))\n",
        "print (dc(a, d))\n",
        "\n",
        "print (recall(a, b))\n",
        "print (recall(a, c))\n",
        "print (recall(a, d))\n",
        "\n",
        "print (precision(a, b))\n",
        "print (precision(a, c))\n",
        "print (precision(a, d))"
      ],
      "execution_count": null,
      "outputs": []
    },
    {
      "cell_type": "code",
      "metadata": {
        "id": "q3_Yk--f_WGs",
        "colab_type": "code",
        "colab": {}
      },
      "source": [
        "for i in xrange(73):\n",
        "    imsave('duke_results/'+str(i)+'.jpg',test3_X[i,:,:,0])\n",
        "    imsave('duke_results/'+str(i)+'g.jpg',test3_y3[i,:,:,0])\n",
        "    imsave('duke_results/'+str(i)+'p.jpg',test3_result[i,:,:,0]*255)"
      ],
      "execution_count": null,
      "outputs": []
    }
  ]
}